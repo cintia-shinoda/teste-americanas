{
  "nbformat": 4,
  "nbformat_minor": 0,
  "metadata": {
    "colab": {
      "name": "americanas - Desafio Técnico - Analista de Dados.ipynb",
      "provenance": [],
      "collapsed_sections": []
    },
    "kernelspec": {
      "name": "python3",
      "display_name": "Python 3"
    },
    "language_info": {
      "name": "python"
    }
  },
  "cells": [
    {
      "cell_type": "markdown",
      "metadata": {
        "id": "RISsJ2QAAhI4"
      },
      "source": [
        "## Bibliotecas"
      ]
    },
    {
      "cell_type": "code",
      "metadata": {
        "id": "VkI51MBO3I0p"
      },
      "source": [
        "import pandas as pd\n",
        "import numpy as np\n",
        "import matplotlib.pyplot as plt\n",
        "import seaborn as sns"
      ],
      "execution_count": 2,
      "outputs": []
    },
    {
      "cell_type": "markdown",
      "metadata": {
        "id": "0hLJ2ZML27C-"
      },
      "source": [
        "# 1"
      ]
    },
    {
      "cell_type": "markdown",
      "metadata": {
        "id": "YJtLK2RVAato"
      },
      "source": [
        "## Análise Exploratória"
      ]
    },
    {
      "cell_type": "markdown",
      "metadata": {
        "id": "LDL4mxWZLgKU"
      },
      "source": [
        "### Financeiro"
      ]
    },
    {
      "cell_type": "code",
      "metadata": {
        "colab": {
          "base_uri": "https://localhost:8080/",
          "height": 206
        },
        "id": "zgNV19xx3cdf",
        "outputId": "f4444b9c-5af6-401e-c0b8-4591358b12d2"
      },
      "source": [
        "financeiro = pd.read_csv(\"Financeiro.csv\", sep=';', decimal=',')\n",
        "financeiro.head()"
      ],
      "execution_count": 3,
      "outputs": [
        {
          "output_type": "execute_result",
          "data": {
            "text/html": [
              "<div>\n",
              "<style scoped>\n",
              "    .dataframe tbody tr th:only-of-type {\n",
              "        vertical-align: middle;\n",
              "    }\n",
              "\n",
              "    .dataframe tbody tr th {\n",
              "        vertical-align: top;\n",
              "    }\n",
              "\n",
              "    .dataframe thead th {\n",
              "        text-align: right;\n",
              "    }\n",
              "</style>\n",
              "<table border=\"1\" class=\"dataframe\">\n",
              "  <thead>\n",
              "    <tr style=\"text-align: right;\">\n",
              "      <th></th>\n",
              "      <th>Mes</th>\n",
              "      <th>Departamento</th>\n",
              "      <th>UF</th>\n",
              "      <th>Item</th>\n",
              "      <th>Faturamento_Produto</th>\n",
              "      <th>Faturamento_Frete</th>\n",
              "      <th>Custo_Produto</th>\n",
              "      <th>Custo_Frete</th>\n",
              "      <th>Custo_Mkt</th>\n",
              "      <th>Desconto_Produto</th>\n",
              "      <th>Desconto_Frete</th>\n",
              "    </tr>\n",
              "  </thead>\n",
              "  <tbody>\n",
              "    <tr>\n",
              "      <th>0</th>\n",
              "      <td>2018-06</td>\n",
              "      <td>Cadeiras</td>\n",
              "      <td>SP</td>\n",
              "      <td>1</td>\n",
              "      <td>149250.0</td>\n",
              "      <td>42984.0</td>\n",
              "      <td>71640</td>\n",
              "      <td>35820</td>\n",
              "      <td>5970</td>\n",
              "      <td>0.0</td>\n",
              "      <td>4776.0</td>\n",
              "    </tr>\n",
              "    <tr>\n",
              "      <th>1</th>\n",
              "      <td>2018-06</td>\n",
              "      <td>Cadeiras</td>\n",
              "      <td>SP</td>\n",
              "      <td>2</td>\n",
              "      <td>148050.0</td>\n",
              "      <td>30456.0</td>\n",
              "      <td>76140</td>\n",
              "      <td>25380</td>\n",
              "      <td>4230</td>\n",
              "      <td>0.0</td>\n",
              "      <td>3384.0</td>\n",
              "    </tr>\n",
              "    <tr>\n",
              "      <th>2</th>\n",
              "      <td>2018-06</td>\n",
              "      <td>Cadeiras</td>\n",
              "      <td>SP</td>\n",
              "      <td>3</td>\n",
              "      <td>133650.0</td>\n",
              "      <td>21384.0</td>\n",
              "      <td>89100</td>\n",
              "      <td>17820</td>\n",
              "      <td>2970</td>\n",
              "      <td>0.0</td>\n",
              "      <td>2376.0</td>\n",
              "    </tr>\n",
              "    <tr>\n",
              "      <th>3</th>\n",
              "      <td>2018-07</td>\n",
              "      <td>Cadeiras</td>\n",
              "      <td>SP</td>\n",
              "      <td>1</td>\n",
              "      <td>314712.5</td>\n",
              "      <td>94784.0</td>\n",
              "      <td>177720</td>\n",
              "      <td>88860</td>\n",
              "      <td>74050</td>\n",
              "      <td>55537.5</td>\n",
              "      <td>23696.0</td>\n",
              "    </tr>\n",
              "    <tr>\n",
              "      <th>4</th>\n",
              "      <td>2018-07</td>\n",
              "      <td>Cadeiras</td>\n",
              "      <td>SP</td>\n",
              "      <td>2</td>\n",
              "      <td>392105.0</td>\n",
              "      <td>84352.0</td>\n",
              "      <td>237240</td>\n",
              "      <td>79080</td>\n",
              "      <td>65900</td>\n",
              "      <td>69195.0</td>\n",
              "      <td>21088.0</td>\n",
              "    </tr>\n",
              "  </tbody>\n",
              "</table>\n",
              "</div>"
            ],
            "text/plain": [
              "       Mes Departamento  UF  ...  Custo_Mkt  Desconto_Produto  Desconto_Frete\n",
              "0  2018-06     Cadeiras  SP  ...       5970               0.0          4776.0\n",
              "1  2018-06     Cadeiras  SP  ...       4230               0.0          3384.0\n",
              "2  2018-06     Cadeiras  SP  ...       2970               0.0          2376.0\n",
              "3  2018-07     Cadeiras  SP  ...      74050           55537.5         23696.0\n",
              "4  2018-07     Cadeiras  SP  ...      65900           69195.0         21088.0\n",
              "\n",
              "[5 rows x 11 columns]"
            ]
          },
          "metadata": {},
          "execution_count": 3
        }
      ]
    },
    {
      "cell_type": "code",
      "metadata": {
        "colab": {
          "base_uri": "https://localhost:8080/"
        },
        "id": "EBO53oeX3lGV",
        "outputId": "032d9b31-a804-42ea-adc0-8f6b8a4fde27"
      },
      "source": [
        "financeiro.info()"
      ],
      "execution_count": 4,
      "outputs": [
        {
          "output_type": "stream",
          "name": "stdout",
          "text": [
            "<class 'pandas.core.frame.DataFrame'>\n",
            "RangeIndex: 108 entries, 0 to 107\n",
            "Data columns (total 11 columns):\n",
            " #   Column               Non-Null Count  Dtype  \n",
            "---  ------               --------------  -----  \n",
            " 0   Mes                  108 non-null    object \n",
            " 1   Departamento         108 non-null    object \n",
            " 2   UF                   108 non-null    object \n",
            " 3   Item                 108 non-null    int64  \n",
            " 4   Faturamento_Produto  108 non-null    float64\n",
            " 5   Faturamento_Frete    108 non-null    float64\n",
            " 6   Custo_Produto        108 non-null    int64  \n",
            " 7   Custo_Frete          108 non-null    int64  \n",
            " 8   Custo_Mkt            108 non-null    int64  \n",
            " 9   Desconto_Produto     108 non-null    float64\n",
            " 10  Desconto_Frete       108 non-null    float64\n",
            "dtypes: float64(4), int64(4), object(3)\n",
            "memory usage: 9.4+ KB\n"
          ]
        }
      ]
    },
    {
      "cell_type": "markdown",
      "metadata": {
        "id": "M_wFvWTmLi_V"
      },
      "source": [
        "### Vendas"
      ]
    },
    {
      "cell_type": "code",
      "metadata": {
        "colab": {
          "base_uri": "https://localhost:8080/",
          "height": 206
        },
        "id": "k9Ha8fvL8LKz",
        "outputId": "8a741615-5bf3-426a-99bd-933af3372e46"
      },
      "source": [
        "vendas = pd.read_csv(\"Vendas.csv\", sep = ';', decimal=',')\n",
        "vendas.head()"
      ],
      "execution_count": 5,
      "outputs": [
        {
          "output_type": "execute_result",
          "data": {
            "text/html": [
              "<div>\n",
              "<style scoped>\n",
              "    .dataframe tbody tr th:only-of-type {\n",
              "        vertical-align: middle;\n",
              "    }\n",
              "\n",
              "    .dataframe tbody tr th {\n",
              "        vertical-align: top;\n",
              "    }\n",
              "\n",
              "    .dataframe thead th {\n",
              "        text-align: right;\n",
              "    }\n",
              "</style>\n",
              "<table border=\"1\" class=\"dataframe\">\n",
              "  <thead>\n",
              "    <tr style=\"text-align: right;\">\n",
              "      <th></th>\n",
              "      <th>Mes</th>\n",
              "      <th>Departamento</th>\n",
              "      <th>UF</th>\n",
              "      <th>Item</th>\n",
              "      <th>Vendas</th>\n",
              "    </tr>\n",
              "  </thead>\n",
              "  <tbody>\n",
              "    <tr>\n",
              "      <th>0</th>\n",
              "      <td>2018-06</td>\n",
              "      <td>Cadeiras</td>\n",
              "      <td>SP</td>\n",
              "      <td>1</td>\n",
              "      <td>590</td>\n",
              "    </tr>\n",
              "    <tr>\n",
              "      <th>1</th>\n",
              "      <td>2018-06</td>\n",
              "      <td>Cadeiras</td>\n",
              "      <td>SP</td>\n",
              "      <td>2</td>\n",
              "      <td>439</td>\n",
              "    </tr>\n",
              "    <tr>\n",
              "      <th>2</th>\n",
              "      <td>2018-06</td>\n",
              "      <td>Cadeiras</td>\n",
              "      <td>SP</td>\n",
              "      <td>3</td>\n",
              "      <td>292</td>\n",
              "    </tr>\n",
              "    <tr>\n",
              "      <th>3</th>\n",
              "      <td>2018-07</td>\n",
              "      <td>Cadeiras</td>\n",
              "      <td>SP</td>\n",
              "      <td>1</td>\n",
              "      <td>1469</td>\n",
              "    </tr>\n",
              "    <tr>\n",
              "      <th>4</th>\n",
              "      <td>2018-07</td>\n",
              "      <td>Cadeiras</td>\n",
              "      <td>SP</td>\n",
              "      <td>2</td>\n",
              "      <td>1333</td>\n",
              "    </tr>\n",
              "  </tbody>\n",
              "</table>\n",
              "</div>"
            ],
            "text/plain": [
              "       Mes Departamento  UF  Item  Vendas\n",
              "0  2018-06     Cadeiras  SP     1     590\n",
              "1  2018-06     Cadeiras  SP     2     439\n",
              "2  2018-06     Cadeiras  SP     3     292\n",
              "3  2018-07     Cadeiras  SP     1    1469\n",
              "4  2018-07     Cadeiras  SP     2    1333"
            ]
          },
          "metadata": {},
          "execution_count": 5
        }
      ]
    },
    {
      "cell_type": "code",
      "metadata": {
        "colab": {
          "base_uri": "https://localhost:8080/"
        },
        "id": "p01RFpcJ8zv-",
        "outputId": "fd9cf4d9-0748-4921-a3ce-6566e579eaa6"
      },
      "source": [
        "vendas.info()"
      ],
      "execution_count": 6,
      "outputs": [
        {
          "output_type": "stream",
          "name": "stdout",
          "text": [
            "<class 'pandas.core.frame.DataFrame'>\n",
            "RangeIndex: 108 entries, 0 to 107\n",
            "Data columns (total 5 columns):\n",
            " #   Column        Non-Null Count  Dtype \n",
            "---  ------        --------------  ----- \n",
            " 0   Mes           108 non-null    object\n",
            " 1   Departamento  108 non-null    object\n",
            " 2   UF            108 non-null    object\n",
            " 3   Item          108 non-null    int64 \n",
            " 4   Vendas        108 non-null    int64 \n",
            "dtypes: int64(2), object(3)\n",
            "memory usage: 4.3+ KB\n"
          ]
        }
      ]
    },
    {
      "cell_type": "markdown",
      "metadata": {
        "id": "JwjYdkkiLlZC"
      },
      "source": [
        "### Visitas"
      ]
    },
    {
      "cell_type": "code",
      "metadata": {
        "colab": {
          "base_uri": "https://localhost:8080/",
          "height": 206
        },
        "id": "nOxfoNpU9VKR",
        "outputId": "1fe25dfb-daa2-4227-8dea-caf0ff892af1"
      },
      "source": [
        "visitas = pd.read_csv(\"Visitas.csv\", sep=';', decimal=',')\n",
        "visitas.head()"
      ],
      "execution_count": 7,
      "outputs": [
        {
          "output_type": "execute_result",
          "data": {
            "text/html": [
              "<div>\n",
              "<style scoped>\n",
              "    .dataframe tbody tr th:only-of-type {\n",
              "        vertical-align: middle;\n",
              "    }\n",
              "\n",
              "    .dataframe tbody tr th {\n",
              "        vertical-align: top;\n",
              "    }\n",
              "\n",
              "    .dataframe thead th {\n",
              "        text-align: right;\n",
              "    }\n",
              "</style>\n",
              "<table border=\"1\" class=\"dataframe\">\n",
              "  <thead>\n",
              "    <tr style=\"text-align: right;\">\n",
              "      <th></th>\n",
              "      <th>Mes</th>\n",
              "      <th>Departamento</th>\n",
              "      <th>UF</th>\n",
              "      <th>Item</th>\n",
              "      <th>Visitas</th>\n",
              "    </tr>\n",
              "  </thead>\n",
              "  <tbody>\n",
              "    <tr>\n",
              "      <th>0</th>\n",
              "      <td>2018-06</td>\n",
              "      <td>Cadeiras</td>\n",
              "      <td>SP</td>\n",
              "      <td>1</td>\n",
              "      <td>14304</td>\n",
              "    </tr>\n",
              "    <tr>\n",
              "      <th>1</th>\n",
              "      <td>2018-06</td>\n",
              "      <td>Cadeiras</td>\n",
              "      <td>SP</td>\n",
              "      <td>2</td>\n",
              "      <td>14258</td>\n",
              "    </tr>\n",
              "    <tr>\n",
              "      <th>2</th>\n",
              "      <td>2018-06</td>\n",
              "      <td>Cadeiras</td>\n",
              "      <td>SP</td>\n",
              "      <td>3</td>\n",
              "      <td>14325</td>\n",
              "    </tr>\n",
              "    <tr>\n",
              "      <th>3</th>\n",
              "      <td>2018-07</td>\n",
              "      <td>Cadeiras</td>\n",
              "      <td>SP</td>\n",
              "      <td>1</td>\n",
              "      <td>14873</td>\n",
              "    </tr>\n",
              "    <tr>\n",
              "      <th>4</th>\n",
              "      <td>2018-07</td>\n",
              "      <td>Cadeiras</td>\n",
              "      <td>SP</td>\n",
              "      <td>2</td>\n",
              "      <td>14849</td>\n",
              "    </tr>\n",
              "  </tbody>\n",
              "</table>\n",
              "</div>"
            ],
            "text/plain": [
              "       Mes Departamento  UF  Item  Visitas\n",
              "0  2018-06     Cadeiras  SP     1    14304\n",
              "1  2018-06     Cadeiras  SP     2    14258\n",
              "2  2018-06     Cadeiras  SP     3    14325\n",
              "3  2018-07     Cadeiras  SP     1    14873\n",
              "4  2018-07     Cadeiras  SP     2    14849"
            ]
          },
          "metadata": {},
          "execution_count": 7
        }
      ]
    },
    {
      "cell_type": "code",
      "metadata": {
        "id": "3aYGfNBD9eyI",
        "colab": {
          "base_uri": "https://localhost:8080/"
        },
        "outputId": "9b2b934e-be08-46d7-a002-f11df9d229c2"
      },
      "source": [
        "visitas.info()"
      ],
      "execution_count": 8,
      "outputs": [
        {
          "output_type": "stream",
          "name": "stdout",
          "text": [
            "<class 'pandas.core.frame.DataFrame'>\n",
            "RangeIndex: 108 entries, 0 to 107\n",
            "Data columns (total 5 columns):\n",
            " #   Column        Non-Null Count  Dtype \n",
            "---  ------        --------------  ----- \n",
            " 0   Mes           108 non-null    object\n",
            " 1   Departamento  108 non-null    object\n",
            " 2   UF            108 non-null    object\n",
            " 3   Item          108 non-null    int64 \n",
            " 4   Visitas       108 non-null    int64 \n",
            "dtypes: int64(2), object(3)\n",
            "memory usage: 4.3+ KB\n"
          ]
        }
      ]
    },
    {
      "cell_type": "markdown",
      "metadata": {
        "id": "A9ivB5c4BRdr"
      },
      "source": [
        "## Junção das Bases"
      ]
    },
    {
      "cell_type": "markdown",
      "metadata": {
        "id": "SzDT4lVcLqNu"
      },
      "source": [
        "### Junção das bases Vendas e Financeiro usando INNER JOIN"
      ]
    },
    {
      "cell_type": "markdown",
      "metadata": {
        "id": "FHnnCFt2J4jT"
      },
      "source": [
        "Retorna os registros comuns às duas bases (todas as vendas tem seus dados financeiros respectivos)"
      ]
    },
    {
      "cell_type": "code",
      "metadata": {
        "id": "274GZGRf9i4A",
        "colab": {
          "base_uri": "https://localhost:8080/",
          "height": 313
        },
        "outputId": "c0177a4e-d925-474b-c14e-9d771139d058"
      },
      "source": [
        "df_join1 = pd.merge(financeiro, vendas, how='inner')\n",
        "df_join1.head()"
      ],
      "execution_count": 9,
      "outputs": [
        {
          "output_type": "execute_result",
          "data": {
            "text/html": [
              "<div>\n",
              "<style scoped>\n",
              "    .dataframe tbody tr th:only-of-type {\n",
              "        vertical-align: middle;\n",
              "    }\n",
              "\n",
              "    .dataframe tbody tr th {\n",
              "        vertical-align: top;\n",
              "    }\n",
              "\n",
              "    .dataframe thead th {\n",
              "        text-align: right;\n",
              "    }\n",
              "</style>\n",
              "<table border=\"1\" class=\"dataframe\">\n",
              "  <thead>\n",
              "    <tr style=\"text-align: right;\">\n",
              "      <th></th>\n",
              "      <th>Mes</th>\n",
              "      <th>Departamento</th>\n",
              "      <th>UF</th>\n",
              "      <th>Item</th>\n",
              "      <th>Faturamento_Produto</th>\n",
              "      <th>Faturamento_Frete</th>\n",
              "      <th>Custo_Produto</th>\n",
              "      <th>Custo_Frete</th>\n",
              "      <th>Custo_Mkt</th>\n",
              "      <th>Desconto_Produto</th>\n",
              "      <th>Desconto_Frete</th>\n",
              "      <th>Vendas</th>\n",
              "    </tr>\n",
              "  </thead>\n",
              "  <tbody>\n",
              "    <tr>\n",
              "      <th>0</th>\n",
              "      <td>2018-06</td>\n",
              "      <td>Cadeiras</td>\n",
              "      <td>SP</td>\n",
              "      <td>1</td>\n",
              "      <td>149250.0</td>\n",
              "      <td>42984.0</td>\n",
              "      <td>71640</td>\n",
              "      <td>35820</td>\n",
              "      <td>5970</td>\n",
              "      <td>0.0</td>\n",
              "      <td>4776.0</td>\n",
              "      <td>590</td>\n",
              "    </tr>\n",
              "    <tr>\n",
              "      <th>1</th>\n",
              "      <td>2018-06</td>\n",
              "      <td>Cadeiras</td>\n",
              "      <td>SP</td>\n",
              "      <td>2</td>\n",
              "      <td>148050.0</td>\n",
              "      <td>30456.0</td>\n",
              "      <td>76140</td>\n",
              "      <td>25380</td>\n",
              "      <td>4230</td>\n",
              "      <td>0.0</td>\n",
              "      <td>3384.0</td>\n",
              "      <td>439</td>\n",
              "    </tr>\n",
              "    <tr>\n",
              "      <th>2</th>\n",
              "      <td>2018-06</td>\n",
              "      <td>Cadeiras</td>\n",
              "      <td>SP</td>\n",
              "      <td>3</td>\n",
              "      <td>133650.0</td>\n",
              "      <td>21384.0</td>\n",
              "      <td>89100</td>\n",
              "      <td>17820</td>\n",
              "      <td>2970</td>\n",
              "      <td>0.0</td>\n",
              "      <td>2376.0</td>\n",
              "      <td>292</td>\n",
              "    </tr>\n",
              "    <tr>\n",
              "      <th>3</th>\n",
              "      <td>2018-07</td>\n",
              "      <td>Cadeiras</td>\n",
              "      <td>SP</td>\n",
              "      <td>1</td>\n",
              "      <td>314712.5</td>\n",
              "      <td>94784.0</td>\n",
              "      <td>177720</td>\n",
              "      <td>88860</td>\n",
              "      <td>74050</td>\n",
              "      <td>55537.5</td>\n",
              "      <td>23696.0</td>\n",
              "      <td>1469</td>\n",
              "    </tr>\n",
              "    <tr>\n",
              "      <th>4</th>\n",
              "      <td>2018-07</td>\n",
              "      <td>Cadeiras</td>\n",
              "      <td>SP</td>\n",
              "      <td>2</td>\n",
              "      <td>392105.0</td>\n",
              "      <td>84352.0</td>\n",
              "      <td>237240</td>\n",
              "      <td>79080</td>\n",
              "      <td>65900</td>\n",
              "      <td>69195.0</td>\n",
              "      <td>21088.0</td>\n",
              "      <td>1333</td>\n",
              "    </tr>\n",
              "  </tbody>\n",
              "</table>\n",
              "</div>"
            ],
            "text/plain": [
              "       Mes Departamento  UF  ...  Desconto_Produto  Desconto_Frete  Vendas\n",
              "0  2018-06     Cadeiras  SP  ...               0.0          4776.0     590\n",
              "1  2018-06     Cadeiras  SP  ...               0.0          3384.0     439\n",
              "2  2018-06     Cadeiras  SP  ...               0.0          2376.0     292\n",
              "3  2018-07     Cadeiras  SP  ...           55537.5         23696.0    1469\n",
              "4  2018-07     Cadeiras  SP  ...           69195.0         21088.0    1333\n",
              "\n",
              "[5 rows x 12 columns]"
            ]
          },
          "metadata": {},
          "execution_count": 9
        }
      ]
    },
    {
      "cell_type": "code",
      "metadata": {
        "colab": {
          "base_uri": "https://localhost:8080/"
        },
        "id": "Nygf2G9vDN0Y",
        "outputId": "217cfa55-8a83-4bb4-cfb8-2b1a1cddf266"
      },
      "source": [
        "df_join1.info()"
      ],
      "execution_count": 10,
      "outputs": [
        {
          "output_type": "stream",
          "name": "stdout",
          "text": [
            "<class 'pandas.core.frame.DataFrame'>\n",
            "Int64Index: 108 entries, 0 to 107\n",
            "Data columns (total 12 columns):\n",
            " #   Column               Non-Null Count  Dtype  \n",
            "---  ------               --------------  -----  \n",
            " 0   Mes                  108 non-null    object \n",
            " 1   Departamento         108 non-null    object \n",
            " 2   UF                   108 non-null    object \n",
            " 3   Item                 108 non-null    int64  \n",
            " 4   Faturamento_Produto  108 non-null    float64\n",
            " 5   Faturamento_Frete    108 non-null    float64\n",
            " 6   Custo_Produto        108 non-null    int64  \n",
            " 7   Custo_Frete          108 non-null    int64  \n",
            " 8   Custo_Mkt            108 non-null    int64  \n",
            " 9   Desconto_Produto     108 non-null    float64\n",
            " 10  Desconto_Frete       108 non-null    float64\n",
            " 11  Vendas               108 non-null    int64  \n",
            "dtypes: float64(4), int64(5), object(3)\n",
            "memory usage: 11.0+ KB\n"
          ]
        }
      ]
    },
    {
      "cell_type": "markdown",
      "metadata": {
        "id": "xIf1R0mtL9sR"
      },
      "source": [
        "### Junção das bases Visitas com (Vendas + Financeiro) usando LEFT JOIN"
      ]
    },
    {
      "cell_type": "markdown",
      "metadata": {
        "id": "d-n8DlqGMShl"
      },
      "source": [
        "Retorna como resultado todos os registros que estão na base Visitas e os registros da base Vendas que são comuns à base Visitas (podem haver visitas que não terminaram em venda)"
      ]
    },
    {
      "cell_type": "code",
      "metadata": {
        "colab": {
          "base_uri": "https://localhost:8080/",
          "height": 313
        },
        "id": "WO3t7uyWD8H5",
        "outputId": "87966226-00a1-4072-8ded-8ac0167cb4da"
      },
      "source": [
        "df_join2 = pd.merge(visitas, df_join1, how='left')\n",
        "df_join2.head()"
      ],
      "execution_count": 11,
      "outputs": [
        {
          "output_type": "execute_result",
          "data": {
            "text/html": [
              "<div>\n",
              "<style scoped>\n",
              "    .dataframe tbody tr th:only-of-type {\n",
              "        vertical-align: middle;\n",
              "    }\n",
              "\n",
              "    .dataframe tbody tr th {\n",
              "        vertical-align: top;\n",
              "    }\n",
              "\n",
              "    .dataframe thead th {\n",
              "        text-align: right;\n",
              "    }\n",
              "</style>\n",
              "<table border=\"1\" class=\"dataframe\">\n",
              "  <thead>\n",
              "    <tr style=\"text-align: right;\">\n",
              "      <th></th>\n",
              "      <th>Mes</th>\n",
              "      <th>Departamento</th>\n",
              "      <th>UF</th>\n",
              "      <th>Item</th>\n",
              "      <th>Visitas</th>\n",
              "      <th>Faturamento_Produto</th>\n",
              "      <th>Faturamento_Frete</th>\n",
              "      <th>Custo_Produto</th>\n",
              "      <th>Custo_Frete</th>\n",
              "      <th>Custo_Mkt</th>\n",
              "      <th>Desconto_Produto</th>\n",
              "      <th>Desconto_Frete</th>\n",
              "      <th>Vendas</th>\n",
              "    </tr>\n",
              "  </thead>\n",
              "  <tbody>\n",
              "    <tr>\n",
              "      <th>0</th>\n",
              "      <td>2018-06</td>\n",
              "      <td>Cadeiras</td>\n",
              "      <td>SP</td>\n",
              "      <td>1</td>\n",
              "      <td>14304</td>\n",
              "      <td>149250.0</td>\n",
              "      <td>42984.0</td>\n",
              "      <td>71640</td>\n",
              "      <td>35820</td>\n",
              "      <td>5970</td>\n",
              "      <td>0.0</td>\n",
              "      <td>4776.0</td>\n",
              "      <td>590</td>\n",
              "    </tr>\n",
              "    <tr>\n",
              "      <th>1</th>\n",
              "      <td>2018-06</td>\n",
              "      <td>Cadeiras</td>\n",
              "      <td>SP</td>\n",
              "      <td>2</td>\n",
              "      <td>14258</td>\n",
              "      <td>148050.0</td>\n",
              "      <td>30456.0</td>\n",
              "      <td>76140</td>\n",
              "      <td>25380</td>\n",
              "      <td>4230</td>\n",
              "      <td>0.0</td>\n",
              "      <td>3384.0</td>\n",
              "      <td>439</td>\n",
              "    </tr>\n",
              "    <tr>\n",
              "      <th>2</th>\n",
              "      <td>2018-06</td>\n",
              "      <td>Cadeiras</td>\n",
              "      <td>SP</td>\n",
              "      <td>3</td>\n",
              "      <td>14325</td>\n",
              "      <td>133650.0</td>\n",
              "      <td>21384.0</td>\n",
              "      <td>89100</td>\n",
              "      <td>17820</td>\n",
              "      <td>2970</td>\n",
              "      <td>0.0</td>\n",
              "      <td>2376.0</td>\n",
              "      <td>292</td>\n",
              "    </tr>\n",
              "    <tr>\n",
              "      <th>3</th>\n",
              "      <td>2018-07</td>\n",
              "      <td>Cadeiras</td>\n",
              "      <td>SP</td>\n",
              "      <td>1</td>\n",
              "      <td>14873</td>\n",
              "      <td>314712.5</td>\n",
              "      <td>94784.0</td>\n",
              "      <td>177720</td>\n",
              "      <td>88860</td>\n",
              "      <td>74050</td>\n",
              "      <td>55537.5</td>\n",
              "      <td>23696.0</td>\n",
              "      <td>1469</td>\n",
              "    </tr>\n",
              "    <tr>\n",
              "      <th>4</th>\n",
              "      <td>2018-07</td>\n",
              "      <td>Cadeiras</td>\n",
              "      <td>SP</td>\n",
              "      <td>2</td>\n",
              "      <td>14849</td>\n",
              "      <td>392105.0</td>\n",
              "      <td>84352.0</td>\n",
              "      <td>237240</td>\n",
              "      <td>79080</td>\n",
              "      <td>65900</td>\n",
              "      <td>69195.0</td>\n",
              "      <td>21088.0</td>\n",
              "      <td>1333</td>\n",
              "    </tr>\n",
              "  </tbody>\n",
              "</table>\n",
              "</div>"
            ],
            "text/plain": [
              "       Mes Departamento  UF  ...  Desconto_Produto  Desconto_Frete  Vendas\n",
              "0  2018-06     Cadeiras  SP  ...               0.0          4776.0     590\n",
              "1  2018-06     Cadeiras  SP  ...               0.0          3384.0     439\n",
              "2  2018-06     Cadeiras  SP  ...               0.0          2376.0     292\n",
              "3  2018-07     Cadeiras  SP  ...           55537.5         23696.0    1469\n",
              "4  2018-07     Cadeiras  SP  ...           69195.0         21088.0    1333\n",
              "\n",
              "[5 rows x 13 columns]"
            ]
          },
          "metadata": {},
          "execution_count": 11
        }
      ]
    },
    {
      "cell_type": "markdown",
      "metadata": {
        "id": "cB-3kAgGRVhr"
      },
      "source": [
        "### Criação da coluna Lucro"
      ]
    },
    {
      "cell_type": "code",
      "metadata": {
        "id": "pIOy-kpAkHxR"
      },
      "source": [
        "df_join2['Lucro'] = (df_join2['Faturamento_Produto']+ df_join2['Faturamento_Frete']) - (df_join2['Custo_Produto'] + df_join2['Custo_Frete'] + df_join2['Custo_Mkt'])"
      ],
      "execution_count": 12,
      "outputs": []
    },
    {
      "cell_type": "code",
      "metadata": {
        "colab": {
          "base_uri": "https://localhost:8080/"
        },
        "id": "UKyH1SNQxQW3",
        "outputId": "b022467d-ae9f-425d-b12f-41a2e6eeaf28"
      },
      "source": [
        "df_join2.info()"
      ],
      "execution_count": 13,
      "outputs": [
        {
          "output_type": "stream",
          "name": "stdout",
          "text": [
            "<class 'pandas.core.frame.DataFrame'>\n",
            "Int64Index: 108 entries, 0 to 107\n",
            "Data columns (total 14 columns):\n",
            " #   Column               Non-Null Count  Dtype  \n",
            "---  ------               --------------  -----  \n",
            " 0   Mes                  108 non-null    object \n",
            " 1   Departamento         108 non-null    object \n",
            " 2   UF                   108 non-null    object \n",
            " 3   Item                 108 non-null    int64  \n",
            " 4   Visitas              108 non-null    int64  \n",
            " 5   Faturamento_Produto  108 non-null    float64\n",
            " 6   Faturamento_Frete    108 non-null    float64\n",
            " 7   Custo_Produto        108 non-null    int64  \n",
            " 8   Custo_Frete          108 non-null    int64  \n",
            " 9   Custo_Mkt            108 non-null    int64  \n",
            " 10  Desconto_Produto     108 non-null    float64\n",
            " 11  Desconto_Frete       108 non-null    float64\n",
            " 12  Vendas               108 non-null    int64  \n",
            " 13  Lucro                108 non-null    float64\n",
            "dtypes: float64(5), int64(6), object(3)\n",
            "memory usage: 12.7+ KB\n"
          ]
        }
      ]
    },
    {
      "cell_type": "markdown",
      "metadata": {
        "id": "ngulM5SnOH_V"
      },
      "source": [
        "## Criação do arquivo .csv com a base única criada"
      ]
    },
    {
      "cell_type": "code",
      "metadata": {
        "id": "lJkjO0pO0Ff_"
      },
      "source": [
        "df_join2.to_csv('df.csv', sep=',', encoding='utf-8', index=False)"
      ],
      "execution_count": 14,
      "outputs": []
    },
    {
      "cell_type": "markdown",
      "metadata": {
        "id": "wmVkfln6Od5I"
      },
      "source": [
        "### Leitura da base criada"
      ]
    },
    {
      "cell_type": "code",
      "metadata": {
        "colab": {
          "base_uri": "https://localhost:8080/",
          "height": 313
        },
        "id": "h4wjKl7O3J8k",
        "outputId": "d85ad9d2-eb19-4e96-b34b-8d493e48fcba"
      },
      "source": [
        "df = pd.read_csv('df.csv')\n",
        "df.head()"
      ],
      "execution_count": 15,
      "outputs": [
        {
          "output_type": "execute_result",
          "data": {
            "text/html": [
              "<div>\n",
              "<style scoped>\n",
              "    .dataframe tbody tr th:only-of-type {\n",
              "        vertical-align: middle;\n",
              "    }\n",
              "\n",
              "    .dataframe tbody tr th {\n",
              "        vertical-align: top;\n",
              "    }\n",
              "\n",
              "    .dataframe thead th {\n",
              "        text-align: right;\n",
              "    }\n",
              "</style>\n",
              "<table border=\"1\" class=\"dataframe\">\n",
              "  <thead>\n",
              "    <tr style=\"text-align: right;\">\n",
              "      <th></th>\n",
              "      <th>Mes</th>\n",
              "      <th>Departamento</th>\n",
              "      <th>UF</th>\n",
              "      <th>Item</th>\n",
              "      <th>Visitas</th>\n",
              "      <th>Faturamento_Produto</th>\n",
              "      <th>Faturamento_Frete</th>\n",
              "      <th>Custo_Produto</th>\n",
              "      <th>Custo_Frete</th>\n",
              "      <th>Custo_Mkt</th>\n",
              "      <th>Desconto_Produto</th>\n",
              "      <th>Desconto_Frete</th>\n",
              "      <th>Vendas</th>\n",
              "      <th>Lucro</th>\n",
              "    </tr>\n",
              "  </thead>\n",
              "  <tbody>\n",
              "    <tr>\n",
              "      <th>0</th>\n",
              "      <td>2018-06</td>\n",
              "      <td>Cadeiras</td>\n",
              "      <td>SP</td>\n",
              "      <td>1</td>\n",
              "      <td>14304</td>\n",
              "      <td>149250.0</td>\n",
              "      <td>42984.0</td>\n",
              "      <td>71640</td>\n",
              "      <td>35820</td>\n",
              "      <td>5970</td>\n",
              "      <td>0.0</td>\n",
              "      <td>4776.0</td>\n",
              "      <td>590</td>\n",
              "      <td>78804.0</td>\n",
              "    </tr>\n",
              "    <tr>\n",
              "      <th>1</th>\n",
              "      <td>2018-06</td>\n",
              "      <td>Cadeiras</td>\n",
              "      <td>SP</td>\n",
              "      <td>2</td>\n",
              "      <td>14258</td>\n",
              "      <td>148050.0</td>\n",
              "      <td>30456.0</td>\n",
              "      <td>76140</td>\n",
              "      <td>25380</td>\n",
              "      <td>4230</td>\n",
              "      <td>0.0</td>\n",
              "      <td>3384.0</td>\n",
              "      <td>439</td>\n",
              "      <td>72756.0</td>\n",
              "    </tr>\n",
              "    <tr>\n",
              "      <th>2</th>\n",
              "      <td>2018-06</td>\n",
              "      <td>Cadeiras</td>\n",
              "      <td>SP</td>\n",
              "      <td>3</td>\n",
              "      <td>14325</td>\n",
              "      <td>133650.0</td>\n",
              "      <td>21384.0</td>\n",
              "      <td>89100</td>\n",
              "      <td>17820</td>\n",
              "      <td>2970</td>\n",
              "      <td>0.0</td>\n",
              "      <td>2376.0</td>\n",
              "      <td>292</td>\n",
              "      <td>45144.0</td>\n",
              "    </tr>\n",
              "    <tr>\n",
              "      <th>3</th>\n",
              "      <td>2018-07</td>\n",
              "      <td>Cadeiras</td>\n",
              "      <td>SP</td>\n",
              "      <td>1</td>\n",
              "      <td>14873</td>\n",
              "      <td>314712.5</td>\n",
              "      <td>94784.0</td>\n",
              "      <td>177720</td>\n",
              "      <td>88860</td>\n",
              "      <td>74050</td>\n",
              "      <td>55537.5</td>\n",
              "      <td>23696.0</td>\n",
              "      <td>1469</td>\n",
              "      <td>68866.5</td>\n",
              "    </tr>\n",
              "    <tr>\n",
              "      <th>4</th>\n",
              "      <td>2018-07</td>\n",
              "      <td>Cadeiras</td>\n",
              "      <td>SP</td>\n",
              "      <td>2</td>\n",
              "      <td>14849</td>\n",
              "      <td>392105.0</td>\n",
              "      <td>84352.0</td>\n",
              "      <td>237240</td>\n",
              "      <td>79080</td>\n",
              "      <td>65900</td>\n",
              "      <td>69195.0</td>\n",
              "      <td>21088.0</td>\n",
              "      <td>1333</td>\n",
              "      <td>94237.0</td>\n",
              "    </tr>\n",
              "  </tbody>\n",
              "</table>\n",
              "</div>"
            ],
            "text/plain": [
              "       Mes Departamento  UF  ...  Desconto_Frete  Vendas    Lucro\n",
              "0  2018-06     Cadeiras  SP  ...          4776.0     590  78804.0\n",
              "1  2018-06     Cadeiras  SP  ...          3384.0     439  72756.0\n",
              "2  2018-06     Cadeiras  SP  ...          2376.0     292  45144.0\n",
              "3  2018-07     Cadeiras  SP  ...         23696.0    1469  68866.5\n",
              "4  2018-07     Cadeiras  SP  ...         21088.0    1333  94237.0\n",
              "\n",
              "[5 rows x 14 columns]"
            ]
          },
          "metadata": {},
          "execution_count": 15
        }
      ]
    },
    {
      "cell_type": "code",
      "metadata": {
        "colab": {
          "base_uri": "https://localhost:8080/"
        },
        "id": "5aAUeihG3X9O",
        "outputId": "5bd93dd1-5981-41e8-995f-f006d72b179e"
      },
      "source": [
        "df.info()"
      ],
      "execution_count": 16,
      "outputs": [
        {
          "output_type": "stream",
          "name": "stdout",
          "text": [
            "<class 'pandas.core.frame.DataFrame'>\n",
            "RangeIndex: 108 entries, 0 to 107\n",
            "Data columns (total 14 columns):\n",
            " #   Column               Non-Null Count  Dtype  \n",
            "---  ------               --------------  -----  \n",
            " 0   Mes                  108 non-null    object \n",
            " 1   Departamento         108 non-null    object \n",
            " 2   UF                   108 non-null    object \n",
            " 3   Item                 108 non-null    int64  \n",
            " 4   Visitas              108 non-null    int64  \n",
            " 5   Faturamento_Produto  108 non-null    float64\n",
            " 6   Faturamento_Frete    108 non-null    float64\n",
            " 7   Custo_Produto        108 non-null    int64  \n",
            " 8   Custo_Frete          108 non-null    int64  \n",
            " 9   Custo_Mkt            108 non-null    int64  \n",
            " 10  Desconto_Produto     108 non-null    float64\n",
            " 11  Desconto_Frete       108 non-null    float64\n",
            " 12  Vendas               108 non-null    int64  \n",
            " 13  Lucro                108 non-null    float64\n",
            "dtypes: float64(5), int64(6), object(3)\n",
            "memory usage: 11.9+ KB\n"
          ]
        }
      ]
    },
    {
      "cell_type": "markdown",
      "metadata": {
        "id": "lRlWkGX53Klu"
      },
      "source": [
        "# 2"
      ]
    },
    {
      "cell_type": "markdown",
      "metadata": {
        "id": "ZzYLxYz9O049"
      },
      "source": [
        "## Análise"
      ]
    },
    {
      "cell_type": "code",
      "metadata": {
        "colab": {
          "base_uri": "https://localhost:8080/",
          "height": 320
        },
        "id": "QfBw908Dwq4n",
        "outputId": "ee8659a9-51ba-40c4-c856-709e38c963d4"
      },
      "source": [
        "df.describe()"
      ],
      "execution_count": 17,
      "outputs": [
        {
          "output_type": "execute_result",
          "data": {
            "text/html": [
              "<div>\n",
              "<style scoped>\n",
              "    .dataframe tbody tr th:only-of-type {\n",
              "        vertical-align: middle;\n",
              "    }\n",
              "\n",
              "    .dataframe tbody tr th {\n",
              "        vertical-align: top;\n",
              "    }\n",
              "\n",
              "    .dataframe thead th {\n",
              "        text-align: right;\n",
              "    }\n",
              "</style>\n",
              "<table border=\"1\" class=\"dataframe\">\n",
              "  <thead>\n",
              "    <tr style=\"text-align: right;\">\n",
              "      <th></th>\n",
              "      <th>Item</th>\n",
              "      <th>Visitas</th>\n",
              "      <th>Faturamento_Produto</th>\n",
              "      <th>Faturamento_Frete</th>\n",
              "      <th>Custo_Produto</th>\n",
              "      <th>Custo_Frete</th>\n",
              "      <th>Custo_Mkt</th>\n",
              "      <th>Desconto_Produto</th>\n",
              "      <th>Desconto_Frete</th>\n",
              "      <th>Vendas</th>\n",
              "      <th>Lucro</th>\n",
              "    </tr>\n",
              "  </thead>\n",
              "  <tbody>\n",
              "    <tr>\n",
              "      <th>count</th>\n",
              "      <td>108.000000</td>\n",
              "      <td>108.000000</td>\n",
              "      <td>1.080000e+02</td>\n",
              "      <td>108.000000</td>\n",
              "      <td>1.080000e+02</td>\n",
              "      <td>108.000000</td>\n",
              "      <td>108.000000</td>\n",
              "      <td>108.000000</td>\n",
              "      <td>108.000000</td>\n",
              "      <td>108.000000</td>\n",
              "      <td>108.000000</td>\n",
              "    </tr>\n",
              "    <tr>\n",
              "      <th>mean</th>\n",
              "      <td>2.000000</td>\n",
              "      <td>6658.250000</td>\n",
              "      <td>2.175414e+05</td>\n",
              "      <td>17943.409259</td>\n",
              "      <td>1.751534e+05</td>\n",
              "      <td>19839.638889</td>\n",
              "      <td>14147.648148</td>\n",
              "      <td>18084.976852</td>\n",
              "      <td>6672.683333</td>\n",
              "      <td>505.953704</td>\n",
              "      <td>26344.071296</td>\n",
              "    </tr>\n",
              "    <tr>\n",
              "      <th>std</th>\n",
              "      <td>0.820303</td>\n",
              "      <td>4022.134564</td>\n",
              "      <td>2.932318e+05</td>\n",
              "      <td>21241.771405</td>\n",
              "      <td>2.461311e+05</td>\n",
              "      <td>18550.861609</td>\n",
              "      <td>16021.860014</td>\n",
              "      <td>30638.421133</td>\n",
              "      <td>10717.614058</td>\n",
              "      <td>356.800617</td>\n",
              "      <td>43683.873168</td>\n",
              "    </tr>\n",
              "    <tr>\n",
              "      <th>min</th>\n",
              "      <td>1.000000</td>\n",
              "      <td>1653.000000</td>\n",
              "      <td>1.977900e+03</td>\n",
              "      <td>0.000000</td>\n",
              "      <td>5.600000e+02</td>\n",
              "      <td>3470.000000</td>\n",
              "      <td>347.000000</td>\n",
              "      <td>0.000000</td>\n",
              "      <td>0.000000</td>\n",
              "      <td>68.000000</td>\n",
              "      <td>-63250.000000</td>\n",
              "    </tr>\n",
              "    <tr>\n",
              "      <th>25%</th>\n",
              "      <td>1.000000</td>\n",
              "      <td>3074.250000</td>\n",
              "      <td>5.308125e+03</td>\n",
              "      <td>6091.200000</td>\n",
              "      <td>1.944750e+03</td>\n",
              "      <td>6715.750000</td>\n",
              "      <td>1653.250000</td>\n",
              "      <td>0.000000</td>\n",
              "      <td>0.000000</td>\n",
              "      <td>217.750000</td>\n",
              "      <td>2479.500000</td>\n",
              "    </tr>\n",
              "    <tr>\n",
              "      <th>50%</th>\n",
              "      <td>2.000000</td>\n",
              "      <td>5330.500000</td>\n",
              "      <td>1.002930e+05</td>\n",
              "      <td>10580.000000</td>\n",
              "      <td>7.332000e+04</td>\n",
              "      <td>11770.000000</td>\n",
              "      <td>9045.000000</td>\n",
              "      <td>526.250000</td>\n",
              "      <td>902.000000</td>\n",
              "      <td>417.000000</td>\n",
              "      <td>7958.000000</td>\n",
              "    </tr>\n",
              "    <tr>\n",
              "      <th>75%</th>\n",
              "      <td>3.000000</td>\n",
              "      <td>9091.250000</td>\n",
              "      <td>3.159056e+05</td>\n",
              "      <td>21438.000000</td>\n",
              "      <td>2.688500e+05</td>\n",
              "      <td>25560.000000</td>\n",
              "      <td>22012.500000</td>\n",
              "      <td>28135.625000</td>\n",
              "      <td>10860.000000</td>\n",
              "      <td>707.000000</td>\n",
              "      <td>44164.125000</td>\n",
              "    </tr>\n",
              "    <tr>\n",
              "      <th>max</th>\n",
              "      <td>3.000000</td>\n",
              "      <td>14873.000000</td>\n",
              "      <td>1.527660e+06</td>\n",
              "      <td>94784.000000</td>\n",
              "      <td>1.283400e+06</td>\n",
              "      <td>88860.000000</td>\n",
              "      <td>74050.000000</td>\n",
              "      <td>169740.000000</td>\n",
              "      <td>50600.000000</td>\n",
              "      <td>1469.000000</td>\n",
              "      <td>234745.000000</td>\n",
              "    </tr>\n",
              "  </tbody>\n",
              "</table>\n",
              "</div>"
            ],
            "text/plain": [
              "             Item       Visitas  ...       Vendas          Lucro\n",
              "count  108.000000    108.000000  ...   108.000000     108.000000\n",
              "mean     2.000000   6658.250000  ...   505.953704   26344.071296\n",
              "std      0.820303   4022.134564  ...   356.800617   43683.873168\n",
              "min      1.000000   1653.000000  ...    68.000000  -63250.000000\n",
              "25%      1.000000   3074.250000  ...   217.750000    2479.500000\n",
              "50%      2.000000   5330.500000  ...   417.000000    7958.000000\n",
              "75%      3.000000   9091.250000  ...   707.000000   44164.125000\n",
              "max      3.000000  14873.000000  ...  1469.000000  234745.000000\n",
              "\n",
              "[8 rows x 11 columns]"
            ]
          },
          "metadata": {},
          "execution_count": 17
        }
      ]
    },
    {
      "cell_type": "code",
      "metadata": {
        "colab": {
          "base_uri": "https://localhost:8080/"
        },
        "id": "_R5cBxyGv-Gh",
        "outputId": "c345f131-bffe-475a-c65a-fecb7310b594"
      },
      "source": [
        "# listagem dos meses com quantidade de vezes que cada elemento aparece\n",
        "meses = df['Mes'].value_counts()\n",
        "print(meses)"
      ],
      "execution_count": 18,
      "outputs": [
        {
          "output_type": "stream",
          "name": "stdout",
          "text": [
            "2018-06    27\n",
            "2018-07    27\n",
            "2018-09    27\n",
            "2018-08    27\n",
            "Name: Mes, dtype: int64\n"
          ]
        }
      ]
    },
    {
      "cell_type": "code",
      "metadata": {
        "colab": {
          "base_uri": "https://localhost:8080/"
        },
        "id": "OOzJ8_5UvRIA",
        "outputId": "e03443e5-e99f-45d6-fb0f-c0edc046bbb9"
      },
      "source": [
        "# listagem de departamentos com quantidade de vezes que cada elemento aparece\n",
        "departamentos = df['Departamento'].value_counts()\n",
        "print(departamentos)"
      ],
      "execution_count": 19,
      "outputs": [
        {
          "output_type": "stream",
          "name": "stdout",
          "text": [
            "Maquinas Fotogr†ficas    36\n",
            "Bolas de Gude            36\n",
            "Cadeiras                 36\n",
            "Name: Departamento, dtype: int64\n"
          ]
        }
      ]
    },
    {
      "cell_type": "code",
      "metadata": {
        "colab": {
          "base_uri": "https://localhost:8080/"
        },
        "id": "gIUsAYAkvqP1",
        "outputId": "3fd509fd-594e-4659-f900-e1f8564bf43f"
      },
      "source": [
        "# listagem das UFs com quantidade de vezes que cada elemento aparece\n",
        "ufs = df['UF'].value_counts()\n",
        "print(ufs)"
      ],
      "execution_count": 20,
      "outputs": [
        {
          "output_type": "stream",
          "name": "stdout",
          "text": [
            "MT    36\n",
            "SP    36\n",
            "PE    36\n",
            "Name: UF, dtype: int64\n"
          ]
        }
      ]
    },
    {
      "cell_type": "code",
      "metadata": {
        "colab": {
          "base_uri": "https://localhost:8080/"
        },
        "id": "1iF4zL3NwRFA",
        "outputId": "8645fc6c-79b6-476b-d6ed-2bbb7c0ecd43"
      },
      "source": [
        "# listagem de itens com quantidade de vezes que cada elemento aparece\n",
        "itens = df['Item'].value_counts()\n",
        "print(itens)"
      ],
      "execution_count": 21,
      "outputs": [
        {
          "output_type": "stream",
          "name": "stdout",
          "text": [
            "3    36\n",
            "2    36\n",
            "1    36\n",
            "Name: Item, dtype: int64\n"
          ]
        }
      ]
    },
    {
      "cell_type": "markdown",
      "metadata": {
        "id": "OWIdvyz1POLS"
      },
      "source": [
        "### Quais os departamentos com mais faturamento?"
      ]
    },
    {
      "cell_type": "code",
      "metadata": {
        "colab": {
          "base_uri": "https://localhost:8080/",
          "height": 175
        },
        "id": "fqW2GnCmAzsQ",
        "outputId": "f28d48b8-b480-4ebb-ef78-3c782ff94a72"
      },
      "source": [
        "df.loc[:, [\"Departamento\", \"Faturamento_Produto\"]].groupby('Departamento').sum('Faturamento_Produto').sort_values(by=\"Faturamento_Produto\", ascending=False)"
      ],
      "execution_count": 22,
      "outputs": [
        {
          "output_type": "execute_result",
          "data": {
            "text/html": [
              "<div>\n",
              "<style scoped>\n",
              "    .dataframe tbody tr th:only-of-type {\n",
              "        vertical-align: middle;\n",
              "    }\n",
              "\n",
              "    .dataframe tbody tr th {\n",
              "        vertical-align: top;\n",
              "    }\n",
              "\n",
              "    .dataframe thead th {\n",
              "        text-align: right;\n",
              "    }\n",
              "</style>\n",
              "<table border=\"1\" class=\"dataframe\">\n",
              "  <thead>\n",
              "    <tr style=\"text-align: right;\">\n",
              "      <th></th>\n",
              "      <th>Faturamento_Produto</th>\n",
              "    </tr>\n",
              "    <tr>\n",
              "      <th>Departamento</th>\n",
              "      <th></th>\n",
              "    </tr>\n",
              "  </thead>\n",
              "  <tbody>\n",
              "    <tr>\n",
              "      <th>Maquinas Fotogr†ficas</th>\n",
              "      <td>18543160.0</td>\n",
              "    </tr>\n",
              "    <tr>\n",
              "      <th>Cadeiras</th>\n",
              "      <td>4793274.0</td>\n",
              "    </tr>\n",
              "    <tr>\n",
              "      <th>Bolas de Gude</th>\n",
              "      <td>158034.5</td>\n",
              "    </tr>\n",
              "  </tbody>\n",
              "</table>\n",
              "</div>"
            ],
            "text/plain": [
              "                       Faturamento_Produto\n",
              "Departamento                              \n",
              "Maquinas Fotogr†ficas           18543160.0\n",
              "Cadeiras                         4793274.0\n",
              "Bolas de Gude                     158034.5"
            ]
          },
          "metadata": {},
          "execution_count": 22
        }
      ]
    },
    {
      "cell_type": "markdown",
      "metadata": {
        "id": "I3pZ1A4SPVWl"
      },
      "source": [
        "### Quais os departamentos com mais lucro?"
      ]
    },
    {
      "cell_type": "markdown",
      "metadata": {
        "id": "_hX5j9MsChxG"
      },
      "source": [
        "O cálculo abaixo foi feito partindo da premissa que: \n",
        "\n",
        "$Lucro = Faturamento - Custo$"
      ]
    },
    {
      "cell_type": "code",
      "metadata": {
        "id": "_fBveu3zPac9",
        "colab": {
          "base_uri": "https://localhost:8080/",
          "height": 175
        },
        "outputId": "1332a47d-3900-4c1e-a94f-4a7a9f8368e5"
      },
      "source": [
        "df.loc[:, [\"Departamento\", \"Lucro\"]].groupby('Departamento').sum('Lucro').sort_values(by=\"Lucro\", ascending=False)"
      ],
      "execution_count": 23,
      "outputs": [
        {
          "output_type": "execute_result",
          "data": {
            "text/html": [
              "<div>\n",
              "<style scoped>\n",
              "    .dataframe tbody tr th:only-of-type {\n",
              "        vertical-align: middle;\n",
              "    }\n",
              "\n",
              "    .dataframe tbody tr th {\n",
              "        vertical-align: top;\n",
              "    }\n",
              "\n",
              "    .dataframe thead th {\n",
              "        text-align: right;\n",
              "    }\n",
              "</style>\n",
              "<table border=\"1\" class=\"dataframe\">\n",
              "  <thead>\n",
              "    <tr style=\"text-align: right;\">\n",
              "      <th></th>\n",
              "      <th>Lucro</th>\n",
              "    </tr>\n",
              "    <tr>\n",
              "      <th>Departamento</th>\n",
              "      <th></th>\n",
              "    </tr>\n",
              "  </thead>\n",
              "  <tbody>\n",
              "    <tr>\n",
              "      <th>Maquinas Fotogr†ficas</th>\n",
              "      <td>1850330.0</td>\n",
              "    </tr>\n",
              "    <tr>\n",
              "      <th>Cadeiras</th>\n",
              "      <td>860688.0</td>\n",
              "    </tr>\n",
              "    <tr>\n",
              "      <th>Bolas de Gude</th>\n",
              "      <td>134141.7</td>\n",
              "    </tr>\n",
              "  </tbody>\n",
              "</table>\n",
              "</div>"
            ],
            "text/plain": [
              "                           Lucro\n",
              "Departamento                    \n",
              "Maquinas Fotogr†ficas  1850330.0\n",
              "Cadeiras                860688.0\n",
              "Bolas de Gude           134141.7"
            ]
          },
          "metadata": {},
          "execution_count": 23
        }
      ]
    },
    {
      "cell_type": "markdown",
      "metadata": {
        "id": "LHtdfWTDPbMa"
      },
      "source": [
        "### Qual ação você sugere como mais efetiva para aumento de vendas? (investimento em propaganda, desconto em preço ou desconto em frete) Por quê?"
      ]
    },
    {
      "cell_type": "markdown",
      "metadata": {
        "id": "tbYrVJIUtXPX"
      },
      "source": [
        "#### Correlação"
      ]
    },
    {
      "cell_type": "code",
      "metadata": {
        "colab": {
          "base_uri": "https://localhost:8080/",
          "height": 993
        },
        "id": "xnvZDfSLvJ6C",
        "outputId": "5b25068f-7157-4704-c5cc-a79fd8835fbc"
      },
      "source": [
        "plt.figure(figsize=(20,15))\n",
        "heatmap = sns.heatmap(df_join2.corr(), vmin=-1, vmax=1, annot=True)\n",
        "heatmap.set_title('Correlation Heatmap')"
      ],
      "execution_count": 24,
      "outputs": [
        {
          "output_type": "execute_result",
          "data": {
            "text/plain": [
              "Text(0.5, 1.0, 'Correlation Heatmap')"
            ]
          },
          "metadata": {},
          "execution_count": 24
        },
        {
          "output_type": "display_data",
          "data": {
            "image/png": "[encoded data removed]",
            "text/plain": [
              "<Figure size 1440x1080 with 2 Axes>"
            ]
          },
          "metadata": {
            "needs_background": "light"
          }
        }
      ]
    },
    {
      "cell_type": "markdown",
      "metadata": {
        "id": "R0YZKekXgE_l"
      },
      "source": [
        "Observando a matriz de correlação acima, o número de Vendas está intimamente atrelado ao número de Visitas (72%).\n",
        "\n",
        "Por sua vez, o número de visitas está relacionado ao Faturamento de Frete (61%).\n",
        "\n",
        "Já o Faturamento de Frete, está relacionado ao Custo de Frete (86%) e Custo de Marketing (68%).\n",
        "<br><br>\n",
        "\n",
        "Porém alto coeficiente de Pearson não indica causalidade. Seriam necessários mais dados e análises para sugestão de ações mais efetivas para o aumento de vendas."
      ]
    },
    {
      "cell_type": "markdown",
      "metadata": {
        "id": "16ajGvOMQBJm"
      },
      "source": [
        "### Cite outras conclusões importantes você conseguiu analisar."
      ]
    },
    {
      "cell_type": "markdown",
      "metadata": {
        "id": "Uvoh_PR3eUt2"
      },
      "source": [
        "**Faturamento de Produto**, **Custo de Produto** e **Desconto de Produto** são os que possuem mais pares com correlação forte ou muito forte (coeficientes de Pearson $\\rho >= 0.7$)\n",
        "<br>\n",
        "\n",
        "Faturamento_Produto x Custo_Produto = 0.99\n",
        "\n",
        "Faturamento_Produto x Desconto_Produto = 0.7\n",
        "\n",
        "Faturamento_Produto x Desconto_Frete = 0.71\n",
        "<br><br>\n",
        "\n",
        "Custo_Produto x Faturamento_Produto = 0.99\n",
        "\n",
        "Custo_Produto x Desconto_Produto = 0.71\n",
        "\n",
        "Custo_Produto x Desconto_Frete = 0.71\n",
        "<br><br>\n",
        "\n",
        "Desconto_Produto x Faturamento_Produto = 0.7\n",
        "\n",
        "Desconto_Produto x Custo_Produto = 0.71\n",
        "\n",
        "Desconto_Produto x Custo_Mkt = 0.75\n",
        "<br><br>"
      ]
    },
    {
      "cell_type": "markdown",
      "metadata": {
        "id": "MdF4UKaAJ7rg"
      },
      "source": [
        "#### Esboço da Curva de Demanda e Otimização de Preço"
      ]
    },
    {
      "cell_type": "markdown",
      "metadata": {
        "id": "3j99f9P6Vs5A"
      },
      "source": [
        "Abaixo um esboço de como seria possível se aproximar de um preço ótimo usando os dados que foram fornecidos.\n",
        "\n",
        "- **Curva de Demanda**\n",
        "\n",
        "A curva de demanda pode ser aproximada na regressão linear de vendas vs preço unitário, onde o preço unitário é estimado dividindo o faturamento por vendas, pois não há registros individuais de cada venda.\n",
        "Essa curva representa a equação linear abaixo:\n",
        "$$Vendas = A * Preco\\_Unitario + B$$"
      ]
    },
    {
      "cell_type": "code",
      "metadata": {
        "colab": {
          "base_uri": "https://localhost:8080/",
          "height": 404
        },
        "id": "QNGgexT9J7T5",
        "outputId": "54272f00-73f0-4360-a8d7-f51c542956d2"
      },
      "source": [
        "df['Custo_Unitario'] = df['Custo_Produto']/df['Vendas']\n",
        "df['Preco_Unitario'] = df['Faturamento_Produto']/df['Vendas']\n",
        "plt.figure(figsize=(8,7))\n",
        "df_item_1 = df.loc[lambda d: (d['Item'] == 1) & (d['Departamento'] == 'Bolas de Gude'), :]\n",
        "sns.lmplot(x = \"Preco_Unitario\", y = \"Vendas\", data = df_item_1)"
      ],
      "execution_count": 62,
      "outputs": [
        {
          "output_type": "execute_result",
          "data": {
            "text/plain": [
              "<seaborn.axisgrid.FacetGrid at 0x7fe1bd39f210>"
            ]
          },
          "metadata": {},
          "execution_count": 62
        },
        {
          "output_type": "display_data",
          "data": {
            "text/plain": [
              "<Figure size 576x504 with 0 Axes>"
            ]
          },
          "metadata": {}
        },
        {
          "output_type": "display_data",
          "data": {
            "image/png": "[encoded data removed]",
            "text/plain": [
              "<Figure size 360x360 with 1 Axes>"
            ]
          },
          "metadata": {
            "needs_background": "light"
          }
        }
      ]
    },
    {
      "cell_type": "markdown",
      "metadata": {
        "id": "oozZXU3sKYy2"
      },
      "source": [
        "Usando um modelo OLS podemos encontrar os parametros A e B da equação linear que descreve vendas em função do preço unitário.\n"
      ]
    },
    {
      "cell_type": "code",
      "metadata": {
        "colab": {
          "base_uri": "https://localhost:8080/"
        },
        "id": "iPu3yRlYJ6tq",
        "outputId": "3579d7ef-a884-4b27-e1da-81fdc094e1e9"
      },
      "source": [
        "# OLS model (Modelo de regressão linear)\n",
        "from statsmodels.formula.api import ols\n",
        "\n",
        "modelo = ols(\"Vendas ~ Preco_Unitario\", data = df_item_1).fit()\n",
        "print(modelo.summary())"
      ],
      "execution_count": 77,
      "outputs": [
        {
          "output_type": "stream",
          "name": "stdout",
          "text": [
            "                            OLS Regression Results                            \n",
            "==============================================================================\n",
            "Dep. Variable:                 Vendas   R-squared:                       0.026\n",
            "Model:                            OLS   Adj. R-squared:                 -0.072\n",
            "Method:                 Least Squares   F-statistic:                    0.2636\n",
            "Date:                Wed, 24 Nov 2021   Prob (F-statistic):              0.619\n",
            "Time:                        18:38:26   Log-Likelihood:                -84.497\n",
            "No. Observations:                  12   AIC:                             173.0\n",
            "Df Residuals:                      10   BIC:                             174.0\n",
            "Df Model:                           1                                         \n",
            "Covariance Type:            nonrobust                                         \n",
            "==================================================================================\n",
            "                     coef    std err          t      P>|t|      [0.025      0.975]\n",
            "----------------------------------------------------------------------------------\n",
            "Intercept       1147.9273    544.452      2.108      0.061     -65.187    2361.042\n",
            "Preco_Unitario   -49.1643     95.750     -0.513      0.619    -262.508     164.179\n",
            "==============================================================================\n",
            "Omnibus:                        0.998   Durbin-Watson:                   1.287\n",
            "Prob(Omnibus):                  0.607   Jarque-Bera (JB):                0.834\n",
            "Skew:                           0.519   Prob(JB):                        0.659\n",
            "Kurtosis:                       2.231   Cond. No.                         36.5\n",
            "==============================================================================\n",
            "\n",
            "Warnings:\n",
            "[1] Standard Errors assume that the covariance matrix of the errors is correctly specified.\n"
          ]
        },
        {
          "output_type": "stream",
          "name": "stderr",
          "text": [
            "/usr/local/lib/python3.7/dist-packages/scipy/stats/stats.py:1535: UserWarning: kurtosistest only valid for n>=20 ... continuing anyway, n=12\n",
            "  \"anyway, n=%i\" % int(n))\n"
          ]
        }
      ]
    },
    {
      "cell_type": "markdown",
      "metadata": {
        "id": "PpuzCzlZWEvI"
      },
      "source": [
        "A e B são respectivamente 1147.9273 e -49.1643"
      ]
    },
    {
      "cell_type": "markdown",
      "metadata": {
        "id": "qFjiz194WReG"
      },
      "source": [
        "- Otmização de preço usando os parametros da curva de demanda\n",
        "\n",
        "O lucro pode ser aproximado por uma função de Preço e Vendas, conforme abaixo:\n",
        "$$Lucro = (Preco\\_Unitario - Custo) * Vendas$$\n",
        "\n",
        "Obs: Para facilicar as contas o Custo será mantido como fixo.\n",
        "Dessa forma, para encontrar um preço ótimo estimado basta randomizarmos alguns preços e aplicarmos na equação de Lucro. Como trata-se de uma estimação grosseira, será feita apenas observando o gráfico abaixo."
      ]
    },
    {
      "cell_type": "code",
      "metadata": {
        "colab": {
          "base_uri": "https://localhost:8080/",
          "height": 300
        },
        "id": "_MO3-o8NLg1f",
        "outputId": "402b5cc8-acdf-4912-d432-5ce38bae8b24"
      },
      "source": [
        "# Estimando preço que maximiza o lucro\n",
        "\n",
        "# Range de preços\n",
        "Preco = np.arange(0.1, 20, 0.1)\n",
        "\n",
        "# Assumindo custo fixo\n",
        "Custo = df_item_1['Custo_Unitario'].mean()\n",
        "\n",
        "# Array de lucros para os precos simulados\n",
        "Lucro = []\n",
        "\n",
        "for i in Preco:\n",
        "    Vendas = modelo.params.get(0) + modelo.params.get(1) * i\n",
        "    Lucro.append((i-Custo) * Vendas)\n",
        "\n",
        "# Datafrrame de Lucro e Preco\n",
        "lucro_data_frame = pd.DataFrame({\"Preco\": Preco, \"Lucro\": Lucro})\n",
        "\n",
        "# Plot final\n",
        "plt.plot(lucro_data_frame[\"Preco\"], lucro_data_frame[\"Lucro\"])\n",
        "\n",
        "# Preco ótimo\n",
        "print(\"Preco medio unitario: \", df_item_1['Preco_Unitario'].mean())\n",
        "print(\"Preco unitario ideal (estimado):\", 12.5)"
      ],
      "execution_count": 80,
      "outputs": [
        {
          "output_type": "stream",
          "name": "stdout",
          "text": [
            "Preco medio unitario:  5.612350260649946\n",
            "Preco unitario ideal (estimado): 12.5\n"
          ]
        },
        {
          "output_type": "display_data",
          "data": {
            "image/png": "[encoded data removed]",
            "text/plain": [
              "<Figure size 432x288 with 1 Axes>"
            ]
          },
          "metadata": {
            "needs_background": "light"
          }
        }
      ]
    },
    {
      "cell_type": "markdown",
      "metadata": {
        "id": "jMj1u3DIKFKR"
      },
      "source": [
        "Mais conclusões constam no report."
      ]
    },
    {
      "cell_type": "markdown",
      "metadata": {
        "id": "BJjIg7jK3RfG"
      },
      "source": [
        "# 3"
      ]
    },
    {
      "cell_type": "markdown",
      "metadata": {
        "id": "C8GTU4KcQSGz"
      },
      "source": [
        "## Agregando bases externas com as existentes"
      ]
    },
    {
      "cell_type": "markdown",
      "metadata": {
        "id": "g68mzOB2c5cc"
      },
      "source": [
        "### Carregando os dados"
      ]
    },
    {
      "cell_type": "markdown",
      "metadata": {
        "id": "1SDLyi9HADDP"
      },
      "source": [
        "Brazilian E-Commerce Public Dataset by Olist\n",
        "\n",
        "https://www.kaggle.com/olistbr/brazilian-ecommerce"
      ]
    },
    {
      "cell_type": "code",
      "metadata": {
        "id": "bRUV5Hmd-2uX"
      },
      "source": [
        "# traduziindo os nomes das categorias de produtos para Inglês\n",
        "olist_products = pd.read_csv(\"olist_products.csv\")\n",
        "prod_cat_name_tr = pd.read_csv(\"product_category_name_translation.csv\")\n",
        "olist_products = olist_products.merge(prod_cat_name_tr, on='product_category_name', how='left')\n",
        "olist_products.drop ('product_category_name', axis=1, inplace=True)"
      ],
      "execution_count": 26,
      "outputs": []
    },
    {
      "cell_type": "code",
      "metadata": {
        "id": "LLufIaBEQdU9"
      },
      "source": [
        "# carregando\n",
        "olist_orders = pd.read_csv(\"olist_orders.csv\")\n",
        "olist_order_items = pd.read_csv(\"olist_order_items.csv\")\n",
        "olist_order_payments = pd.read_csv(\"olist_order_payments.csv\")\n",
        "olist_order_reviews = pd.read_csv(\"olist_order_reviews.csv\")\n",
        "olist_sellers = pd.read_csv(\"olist_sellers.csv\")\n",
        "olist_customers = pd.read_csv(\"olist_customers.csv\")\n",
        "olist_geolocation = pd.read_csv(\"olist_geolocation.csv\")"
      ],
      "execution_count": 27,
      "outputs": []
    },
    {
      "cell_type": "markdown",
      "metadata": {
        "id": "fpsh0InVgm9d"
      },
      "source": [
        "### Junção das bases"
      ]
    },
    {
      "cell_type": "markdown",
      "metadata": {
        "id": "ZKVc0hfQni9k"
      },
      "source": [
        "![olist-data-schema](https://raw.githubusercontent.com/cintia-shinoda/americanas_desafio-tecnico/blob/master/imagens/olist-data-schema.png)"
      ]
    },
    {
      "cell_type": "code",
      "metadata": {
        "id": "0zGOauYQgmXY"
      },
      "source": [
        "olist = olist_orders.merge(olist_order_items, on='order_id', how='left')\n",
        "olist = olist.merge(olist_order_payments, on='order_id', how='outer', validate='m:m')\n",
        "olist = olist.merge(olist_order_reviews, on='order_id', how='outer')\n",
        "olist = olist.merge(olist_products, on='product_id', how='outer')\n",
        "olist = olist.merge(olist_customers, on='customer_id', how='outer')\n",
        "olist = olist.merge(olist_sellers, on='seller_id', how='outer')"
      ],
      "execution_count": 28,
      "outputs": []
    },
    {
      "cell_type": "code",
      "metadata": {
        "colab": {
          "base_uri": "https://localhost:8080/"
        },
        "id": "D8NoEJ_EiayW",
        "outputId": "32d3dcd6-4c98-456e-aa01-6f9ddc54edfa"
      },
      "source": [
        "olist.info()"
      ],
      "execution_count": 29,
      "outputs": [
        {
          "output_type": "stream",
          "name": "stdout",
          "text": [
            "<class 'pandas.core.frame.DataFrame'>\n",
            "Int64Index: 119143 entries, 0 to 119142\n",
            "Data columns (total 39 columns):\n",
            " #   Column                         Non-Null Count   Dtype  \n",
            "---  ------                         --------------   -----  \n",
            " 0   order_id                       119143 non-null  object \n",
            " 1   customer_id                    119143 non-null  object \n",
            " 2   order_status                   119143 non-null  object \n",
            " 3   order_purchase_timestamp       119143 non-null  object \n",
            " 4   order_approved_at              118966 non-null  object \n",
            " 5   order_delivered_carrier_date   117057 non-null  object \n",
            " 6   order_delivered_customer_date  115722 non-null  object \n",
            " 7   order_estimated_delivery_date  119143 non-null  object \n",
            " 8   order_item_id                  118310 non-null  float64\n",
            " 9   product_id                     118310 non-null  object \n",
            " 10  seller_id                      118310 non-null  object \n",
            " 11  shipping_limit_date            118310 non-null  object \n",
            " 12  price                          118310 non-null  float64\n",
            " 13  freight_value                  118310 non-null  float64\n",
            " 14  payment_sequential             119140 non-null  float64\n",
            " 15  payment_type                   119140 non-null  object \n",
            " 16  payment_installments           119140 non-null  float64\n",
            " 17  payment_value                  119140 non-null  float64\n",
            " 18  review_id                      118146 non-null  object \n",
            " 19  review_score                   118146 non-null  float64\n",
            " 20  review_comment_title           13989 non-null   object \n",
            " 21  review_comment_message         50245 non-null   object \n",
            " 22  review_creation_date           118146 non-null  object \n",
            " 23  review_answer_timestamp        118146 non-null  object \n",
            " 24  product_name_lenght            116601 non-null  float64\n",
            " 25  product_description_lenght     116601 non-null  float64\n",
            " 26  product_photos_qty             116601 non-null  float64\n",
            " 27  product_weight_g               118290 non-null  float64\n",
            " 28  product_length_cm              118290 non-null  float64\n",
            " 29  product_height_cm              118290 non-null  float64\n",
            " 30  product_width_cm               118290 non-null  float64\n",
            " 31  product_category_name_english  116576 non-null  object \n",
            " 32  customer_unique_id             119143 non-null  object \n",
            " 33  customer_zip_code_prefix       119143 non-null  int64  \n",
            " 34  customer_city                  119143 non-null  object \n",
            " 35  customer_state                 119143 non-null  object \n",
            " 36  seller_zip_code_prefix         118310 non-null  float64\n",
            " 37  seller_city                    118310 non-null  object \n",
            " 38  seller_state                   118310 non-null  object \n",
            "dtypes: float64(15), int64(1), object(23)\n",
            "memory usage: 36.4+ MB\n"
          ]
        }
      ]
    },
    {
      "cell_type": "code",
      "metadata": {
        "colab": {
          "base_uri": "https://localhost:8080/",
          "height": 313
        },
        "id": "8AQio6It8njz",
        "outputId": "9db8b677-909f-4c45-d7fc-59b0dca8987d"
      },
      "source": [
        "olist.head()"
      ],
      "execution_count": 31,
      "outputs": [
        {
          "output_type": "execute_result",
          "data": {
            "text/html": [
              "<div>\n",
              "<style scoped>\n",
              "    .dataframe tbody tr th:only-of-type {\n",
              "        vertical-align: middle;\n",
              "    }\n",
              "\n",
              "    .dataframe tbody tr th {\n",
              "        vertical-align: top;\n",
              "    }\n",
              "\n",
              "    .dataframe thead th {\n",
              "        text-align: right;\n",
              "    }\n",
              "</style>\n",
              "<table border=\"1\" class=\"dataframe\">\n",
              "  <thead>\n",
              "    <tr style=\"text-align: right;\">\n",
              "      <th></th>\n",
              "      <th>order_id</th>\n",
              "      <th>customer_id</th>\n",
              "      <th>order_status</th>\n",
              "      <th>order_purchase_timestamp</th>\n",
              "      <th>order_approved_at</th>\n",
              "      <th>order_delivered_carrier_date</th>\n",
              "      <th>order_delivered_customer_date</th>\n",
              "      <th>order_estimated_delivery_date</th>\n",
              "      <th>order_item_id</th>\n",
              "      <th>product_id</th>\n",
              "      <th>seller_id</th>\n",
              "      <th>shipping_limit_date</th>\n",
              "      <th>price</th>\n",
              "      <th>freight_value</th>\n",
              "      <th>payment_sequential</th>\n",
              "      <th>payment_type</th>\n",
              "      <th>payment_installments</th>\n",
              "      <th>payment_value</th>\n",
              "      <th>review_id</th>\n",
              "      <th>review_score</th>\n",
              "      <th>review_comment_title</th>\n",
              "      <th>review_comment_message</th>\n",
              "      <th>review_creation_date</th>\n",
              "      <th>review_answer_timestamp</th>\n",
              "      <th>product_name_lenght</th>\n",
              "      <th>product_description_lenght</th>\n",
              "      <th>product_photos_qty</th>\n",
              "      <th>product_weight_g</th>\n",
              "      <th>product_length_cm</th>\n",
              "      <th>product_height_cm</th>\n",
              "      <th>product_width_cm</th>\n",
              "      <th>product_category_name_english</th>\n",
              "      <th>customer_unique_id</th>\n",
              "      <th>customer_zip_code_prefix</th>\n",
              "      <th>customer_city</th>\n",
              "      <th>customer_state</th>\n",
              "      <th>seller_zip_code_prefix</th>\n",
              "      <th>seller_city</th>\n",
              "      <th>seller_state</th>\n",
              "    </tr>\n",
              "  </thead>\n",
              "  <tbody>\n",
              "    <tr>\n",
              "      <th>0</th>\n",
              "      <td>e481f51cbdc54678b7cc49136f2d6af7</td>\n",
              "      <td>9ef432eb6251297304e76186b10a928d</td>\n",
              "      <td>delivered</td>\n",
              "      <td>2017-10-02 10:56:33</td>\n",
              "      <td>2017-10-02 11:07:15</td>\n",
              "      <td>2017-10-04 19:55:00</td>\n",
              "      <td>2017-10-10 21:25:13</td>\n",
              "      <td>2017-10-18 00:00:00</td>\n",
              "      <td>1.0</td>\n",
              "      <td>87285b34884572647811a353c7ac498a</td>\n",
              "      <td>3504c0cb71d7fa48d967e0e4c94d59d9</td>\n",
              "      <td>2017-10-06 11:07:15</td>\n",
              "      <td>29.99</td>\n",
              "      <td>8.72</td>\n",
              "      <td>1.0</td>\n",
              "      <td>credit_card</td>\n",
              "      <td>1.0</td>\n",
              "      <td>18.12</td>\n",
              "      <td>a54f0611adc9ed256b57ede6b6eb5114</td>\n",
              "      <td>4.0</td>\n",
              "      <td>NaN</td>\n",
              "      <td>Não testei o produto ainda, mas ele veio corre...</td>\n",
              "      <td>2017-10-11 00:00:00</td>\n",
              "      <td>2017-10-12 03:43:48</td>\n",
              "      <td>40.0</td>\n",
              "      <td>268.0</td>\n",
              "      <td>4.0</td>\n",
              "      <td>500.0</td>\n",
              "      <td>19.0</td>\n",
              "      <td>8.0</td>\n",
              "      <td>13.0</td>\n",
              "      <td>housewares</td>\n",
              "      <td>7c396fd4830fd04220f754e42b4e5bff</td>\n",
              "      <td>3149</td>\n",
              "      <td>sao paulo</td>\n",
              "      <td>SP</td>\n",
              "      <td>9350.0</td>\n",
              "      <td>maua</td>\n",
              "      <td>SP</td>\n",
              "    </tr>\n",
              "    <tr>\n",
              "      <th>1</th>\n",
              "      <td>e481f51cbdc54678b7cc49136f2d6af7</td>\n",
              "      <td>9ef432eb6251297304e76186b10a928d</td>\n",
              "      <td>delivered</td>\n",
              "      <td>2017-10-02 10:56:33</td>\n",
              "      <td>2017-10-02 11:07:15</td>\n",
              "      <td>2017-10-04 19:55:00</td>\n",
              "      <td>2017-10-10 21:25:13</td>\n",
              "      <td>2017-10-18 00:00:00</td>\n",
              "      <td>1.0</td>\n",
              "      <td>87285b34884572647811a353c7ac498a</td>\n",
              "      <td>3504c0cb71d7fa48d967e0e4c94d59d9</td>\n",
              "      <td>2017-10-06 11:07:15</td>\n",
              "      <td>29.99</td>\n",
              "      <td>8.72</td>\n",
              "      <td>3.0</td>\n",
              "      <td>voucher</td>\n",
              "      <td>1.0</td>\n",
              "      <td>2.00</td>\n",
              "      <td>a54f0611adc9ed256b57ede6b6eb5114</td>\n",
              "      <td>4.0</td>\n",
              "      <td>NaN</td>\n",
              "      <td>Não testei o produto ainda, mas ele veio corre...</td>\n",
              "      <td>2017-10-11 00:00:00</td>\n",
              "      <td>2017-10-12 03:43:48</td>\n",
              "      <td>40.0</td>\n",
              "      <td>268.0</td>\n",
              "      <td>4.0</td>\n",
              "      <td>500.0</td>\n",
              "      <td>19.0</td>\n",
              "      <td>8.0</td>\n",
              "      <td>13.0</td>\n",
              "      <td>housewares</td>\n",
              "      <td>7c396fd4830fd04220f754e42b4e5bff</td>\n",
              "      <td>3149</td>\n",
              "      <td>sao paulo</td>\n",
              "      <td>SP</td>\n",
              "      <td>9350.0</td>\n",
              "      <td>maua</td>\n",
              "      <td>SP</td>\n",
              "    </tr>\n",
              "    <tr>\n",
              "      <th>2</th>\n",
              "      <td>e481f51cbdc54678b7cc49136f2d6af7</td>\n",
              "      <td>9ef432eb6251297304e76186b10a928d</td>\n",
              "      <td>delivered</td>\n",
              "      <td>2017-10-02 10:56:33</td>\n",
              "      <td>2017-10-02 11:07:15</td>\n",
              "      <td>2017-10-04 19:55:00</td>\n",
              "      <td>2017-10-10 21:25:13</td>\n",
              "      <td>2017-10-18 00:00:00</td>\n",
              "      <td>1.0</td>\n",
              "      <td>87285b34884572647811a353c7ac498a</td>\n",
              "      <td>3504c0cb71d7fa48d967e0e4c94d59d9</td>\n",
              "      <td>2017-10-06 11:07:15</td>\n",
              "      <td>29.99</td>\n",
              "      <td>8.72</td>\n",
              "      <td>2.0</td>\n",
              "      <td>voucher</td>\n",
              "      <td>1.0</td>\n",
              "      <td>18.59</td>\n",
              "      <td>a54f0611adc9ed256b57ede6b6eb5114</td>\n",
              "      <td>4.0</td>\n",
              "      <td>NaN</td>\n",
              "      <td>Não testei o produto ainda, mas ele veio corre...</td>\n",
              "      <td>2017-10-11 00:00:00</td>\n",
              "      <td>2017-10-12 03:43:48</td>\n",
              "      <td>40.0</td>\n",
              "      <td>268.0</td>\n",
              "      <td>4.0</td>\n",
              "      <td>500.0</td>\n",
              "      <td>19.0</td>\n",
              "      <td>8.0</td>\n",
              "      <td>13.0</td>\n",
              "      <td>housewares</td>\n",
              "      <td>7c396fd4830fd04220f754e42b4e5bff</td>\n",
              "      <td>3149</td>\n",
              "      <td>sao paulo</td>\n",
              "      <td>SP</td>\n",
              "      <td>9350.0</td>\n",
              "      <td>maua</td>\n",
              "      <td>SP</td>\n",
              "    </tr>\n",
              "    <tr>\n",
              "      <th>3</th>\n",
              "      <td>128e10d95713541c87cd1a2e48201934</td>\n",
              "      <td>a20e8105f23924cd00833fd87daa0831</td>\n",
              "      <td>delivered</td>\n",
              "      <td>2017-08-15 18:29:31</td>\n",
              "      <td>2017-08-15 20:05:16</td>\n",
              "      <td>2017-08-17 15:28:33</td>\n",
              "      <td>2017-08-18 14:44:43</td>\n",
              "      <td>2017-08-28 00:00:00</td>\n",
              "      <td>1.0</td>\n",
              "      <td>87285b34884572647811a353c7ac498a</td>\n",
              "      <td>3504c0cb71d7fa48d967e0e4c94d59d9</td>\n",
              "      <td>2017-08-21 20:05:16</td>\n",
              "      <td>29.99</td>\n",
              "      <td>7.78</td>\n",
              "      <td>1.0</td>\n",
              "      <td>credit_card</td>\n",
              "      <td>3.0</td>\n",
              "      <td>37.77</td>\n",
              "      <td>b46f1e34512b0f4c74a72398b03ca788</td>\n",
              "      <td>4.0</td>\n",
              "      <td>NaN</td>\n",
              "      <td>Deveriam embalar melhor o produto. A caixa vei...</td>\n",
              "      <td>2017-08-19 00:00:00</td>\n",
              "      <td>2017-08-20 15:16:36</td>\n",
              "      <td>40.0</td>\n",
              "      <td>268.0</td>\n",
              "      <td>4.0</td>\n",
              "      <td>500.0</td>\n",
              "      <td>19.0</td>\n",
              "      <td>8.0</td>\n",
              "      <td>13.0</td>\n",
              "      <td>housewares</td>\n",
              "      <td>3a51803cc0d012c3b5dc8b7528cb05f7</td>\n",
              "      <td>3366</td>\n",
              "      <td>sao paulo</td>\n",
              "      <td>SP</td>\n",
              "      <td>9350.0</td>\n",
              "      <td>maua</td>\n",
              "      <td>SP</td>\n",
              "    </tr>\n",
              "    <tr>\n",
              "      <th>4</th>\n",
              "      <td>0e7e841ddf8f8f2de2bad69267ecfbcf</td>\n",
              "      <td>26c7ac168e1433912a51b924fbd34d34</td>\n",
              "      <td>delivered</td>\n",
              "      <td>2017-08-02 18:24:47</td>\n",
              "      <td>2017-08-02 18:43:15</td>\n",
              "      <td>2017-08-04 17:35:43</td>\n",
              "      <td>2017-08-07 18:30:01</td>\n",
              "      <td>2017-08-15 00:00:00</td>\n",
              "      <td>1.0</td>\n",
              "      <td>87285b34884572647811a353c7ac498a</td>\n",
              "      <td>3504c0cb71d7fa48d967e0e4c94d59d9</td>\n",
              "      <td>2017-08-08 18:37:31</td>\n",
              "      <td>29.99</td>\n",
              "      <td>7.78</td>\n",
              "      <td>1.0</td>\n",
              "      <td>credit_card</td>\n",
              "      <td>1.0</td>\n",
              "      <td>37.77</td>\n",
              "      <td>dc90f19c2806f1abba9e72ad3c350073</td>\n",
              "      <td>5.0</td>\n",
              "      <td>NaN</td>\n",
              "      <td>Só achei ela pequena pra seis xícaras ,mais é ...</td>\n",
              "      <td>2017-08-08 00:00:00</td>\n",
              "      <td>2017-08-08 23:26:23</td>\n",
              "      <td>40.0</td>\n",
              "      <td>268.0</td>\n",
              "      <td>4.0</td>\n",
              "      <td>500.0</td>\n",
              "      <td>19.0</td>\n",
              "      <td>8.0</td>\n",
              "      <td>13.0</td>\n",
              "      <td>housewares</td>\n",
              "      <td>ef0996a1a279c26e7ecbd737be23d235</td>\n",
              "      <td>2290</td>\n",
              "      <td>sao paulo</td>\n",
              "      <td>SP</td>\n",
              "      <td>9350.0</td>\n",
              "      <td>maua</td>\n",
              "      <td>SP</td>\n",
              "    </tr>\n",
              "  </tbody>\n",
              "</table>\n",
              "</div>"
            ],
            "text/plain": [
              "                           order_id  ... seller_state\n",
              "0  e481f51cbdc54678b7cc49136f2d6af7  ...           SP\n",
              "1  e481f51cbdc54678b7cc49136f2d6af7  ...           SP\n",
              "2  e481f51cbdc54678b7cc49136f2d6af7  ...           SP\n",
              "3  128e10d95713541c87cd1a2e48201934  ...           SP\n",
              "4  0e7e841ddf8f8f2de2bad69267ecfbcf  ...           SP\n",
              "\n",
              "[5 rows x 39 columns]"
            ]
          },
          "metadata": {},
          "execution_count": 31
        }
      ]
    },
    {
      "cell_type": "markdown",
      "metadata": {
        "id": "zad2806H78Dz"
      },
      "source": [
        "### Limpeza"
      ]
    },
    {
      "cell_type": "code",
      "metadata": {
        "id": "hXdW2j3O9m2w"
      },
      "source": [
        "# substituição de valores nulos existentes nos títulos dos comentários e mensagens de comentários\n",
        "olist['review_comment_title'] = olist['review_comment_title'].fillna('No title')\n",
        "olist['review_comment_message'] = olist['review_comment_message'].fillna('No message')"
      ],
      "execution_count": 32,
      "outputs": []
    },
    {
      "cell_type": "code",
      "metadata": {
        "colab": {
          "base_uri": "https://localhost:8080/"
        },
        "id": "I54EzG197_rX",
        "outputId": "0b5b88be-96af-4208-e130-75d778451378"
      },
      "source": [
        "# valores NaN\n",
        "before_drop = olist.shape[0]\n",
        "olist= olist.dropna()\n",
        "after_drop = olist.shape[0]\n",
        "print(f'Há {round(((before_drop-after_drop)/after_drop)*100,2)}% NaN')"
      ],
      "execution_count": 33,
      "outputs": [
        {
          "output_type": "stream",
          "name": "stdout",
          "text": [
            "Há 5.26% NaN\n"
          ]
        }
      ]
    },
    {
      "cell_type": "code",
      "metadata": {
        "id": "PzAY61pvCD_1"
      },
      "source": [
        "# datas\n",
        "olist['order_purchase_timestamp'] = pd.to_datetime(olist.order_purchase_timestamp)\n",
        "olist['order_approved_at'] = pd.to_datetime(olist.order_approved_at)\n",
        "olist['order_delivered_carrier_date'] = pd.to_datetime(olist.order_delivered_carrier_date)\n",
        "olist['order_delivered_customer_date'] = pd.to_datetime(olist.order_delivered_customer_date)\n",
        "olist['order_estimated_delivery_date'] = pd.to_datetime(olist.order_estimated_delivery_date)\n",
        "olist['shipping_limit_date'] = pd.to_datetime(olist.shipping_limit_date)\n",
        "olist['review_creation_date'] = pd.to_datetime(olist.review_creation_date)"
      ],
      "execution_count": 34,
      "outputs": []
    },
    {
      "cell_type": "code",
      "metadata": {
        "colab": {
          "base_uri": "https://localhost:8080/"
        },
        "id": "xD_ixcpYCk29",
        "outputId": "ef419818-5e50-44b0-abb6-5d0c08d94d98"
      },
      "source": [
        "olist.info()"
      ],
      "execution_count": 36,
      "outputs": [
        {
          "output_type": "stream",
          "name": "stdout",
          "text": [
            "<class 'pandas.core.frame.DataFrame'>\n",
            "Int64Index: 113193 entries, 0 to 119142\n",
            "Data columns (total 39 columns):\n",
            " #   Column                         Non-Null Count   Dtype         \n",
            "---  ------                         --------------   -----         \n",
            " 0   order_id                       113193 non-null  object        \n",
            " 1   customer_id                    113193 non-null  object        \n",
            " 2   order_status                   113193 non-null  object        \n",
            " 3   order_purchase_timestamp       113193 non-null  datetime64[ns]\n",
            " 4   order_approved_at              113193 non-null  datetime64[ns]\n",
            " 5   order_delivered_carrier_date   113193 non-null  datetime64[ns]\n",
            " 6   order_delivered_customer_date  113193 non-null  datetime64[ns]\n",
            " 7   order_estimated_delivery_date  113193 non-null  datetime64[ns]\n",
            " 8   order_item_id                  113193 non-null  float64       \n",
            " 9   product_id                     113193 non-null  object        \n",
            " 10  seller_id                      113193 non-null  object        \n",
            " 11  shipping_limit_date            113193 non-null  datetime64[ns]\n",
            " 12  price                          113193 non-null  float64       \n",
            " 13  freight_value                  113193 non-null  float64       \n",
            " 14  payment_sequential             113193 non-null  float64       \n",
            " 15  payment_type                   113193 non-null  object        \n",
            " 16  payment_installments           113193 non-null  float64       \n",
            " 17  payment_value                  113193 non-null  float64       \n",
            " 18  review_id                      113193 non-null  object        \n",
            " 19  review_score                   113193 non-null  float64       \n",
            " 20  review_comment_title           113193 non-null  object        \n",
            " 21  review_comment_message         113193 non-null  object        \n",
            " 22  review_creation_date           113193 non-null  datetime64[ns]\n",
            " 23  review_answer_timestamp        113193 non-null  object        \n",
            " 24  product_name_lenght            113193 non-null  float64       \n",
            " 25  product_description_lenght     113193 non-null  float64       \n",
            " 26  product_photos_qty             113193 non-null  float64       \n",
            " 27  product_weight_g               113193 non-null  float64       \n",
            " 28  product_length_cm              113193 non-null  float64       \n",
            " 29  product_height_cm              113193 non-null  float64       \n",
            " 30  product_width_cm               113193 non-null  float64       \n",
            " 31  product_category_name_english  113193 non-null  object        \n",
            " 32  customer_unique_id             113193 non-null  object        \n",
            " 33  customer_zip_code_prefix       113193 non-null  int64         \n",
            " 34  customer_city                  113193 non-null  object        \n",
            " 35  customer_state                 113193 non-null  object        \n",
            " 36  seller_zip_code_prefix         113193 non-null  float64       \n",
            " 37  seller_city                    113193 non-null  object        \n",
            " 38  seller_state                   113193 non-null  object        \n",
            "dtypes: datetime64[ns](7), float64(15), int64(1), object(16)\n",
            "memory usage: 34.5+ MB\n"
          ]
        }
      ]
    },
    {
      "cell_type": "markdown",
      "metadata": {
        "id": "vrrbWYWJEfuL"
      },
      "source": [
        "### Análise Exploratória"
      ]
    },
    {
      "cell_type": "code",
      "metadata": {
        "colab": {
          "base_uri": "https://localhost:8080/"
        },
        "id": "2tsH0GuSF51f",
        "outputId": "17010fa5-e0dc-4830-9724-93bd2aff0667"
      },
      "source": [
        "# consumidores\n",
        "print(f'Há {len(olist.customer_unique_id.unique())} consumidores')"
      ],
      "execution_count": 50,
      "outputs": [
        {
          "output_type": "stream",
          "name": "stdout",
          "text": [
            "Há 91465 consumidores\n"
          ]
        }
      ]
    },
    {
      "cell_type": "code",
      "metadata": {
        "colab": {
          "base_uri": "https://localhost:8080/"
        },
        "id": "9ukqr584DOOB",
        "outputId": "ba4789db-6fc8-4728-cf6e-d97094dd2a06"
      },
      "source": [
        "# Geolocalização dos consumidores\n",
        "print(f'Há {len(olist.customer_city.unique())} cidades')\n",
        "print(f'Há {len(olist.customer_state.unique())} estados')"
      ],
      "execution_count": 51,
      "outputs": [
        {
          "output_type": "stream",
          "name": "stdout",
          "text": [
            "Há 4071 cidades\n",
            "Há 27 estados\n"
          ]
        }
      ]
    },
    {
      "cell_type": "code",
      "metadata": {
        "colab": {
          "base_uri": "https://localhost:8080/"
        },
        "id": "7VKDsVADFS_5",
        "outputId": "1b2470ea-35ec-4d82-a7fd-f72c3bc9c8f4"
      },
      "source": [
        "# Geolocalização dos vendedores\n",
        "print(f'Há {len(olist.seller_city.unique())} cidades')\n",
        "print(f'Há {len(olist.seller_state.unique())} estados')"
      ],
      "execution_count": 52,
      "outputs": [
        {
          "output_type": "stream",
          "name": "stdout",
          "text": [
            "Há 587 cidades\n",
            "Há 22 estados\n"
          ]
        }
      ]
    },
    {
      "cell_type": "code",
      "metadata": {
        "colab": {
          "base_uri": "https://localhost:8080/"
        },
        "id": "MfIVWGucGTSJ",
        "outputId": "790840da-1558-4fb1-a177-589aaacfecb7"
      },
      "source": [
        "# Produtos\n",
        "print(f'Há {len(olist.product_category_name_english.unique())} categorias de produtos')\n",
        "print(f'Há {len(olist.product_name_lenght.unique())} produtos')"
      ],
      "execution_count": 54,
      "outputs": [
        {
          "output_type": "stream",
          "name": "stdout",
          "text": [
            "Há 71 categorias de produtos\n",
            "Há 65 produtos\n"
          ]
        }
      ]
    },
    {
      "cell_type": "code",
      "metadata": {
        "colab": {
          "base_uri": "https://localhost:8080/"
        },
        "id": "G-LUfINnHwup",
        "outputId": "1c085261-1317-4f83-a1dc-bc813151d701"
      },
      "source": [
        "# Reviews\n",
        "print(f'Há {len(olist.review_id.unique())} reviews')\n",
        "print(f'{round(olist.review_score.mean())} é a nota média')"
      ],
      "execution_count": 58,
      "outputs": [
        {
          "output_type": "stream",
          "name": "stdout",
          "text": [
            "Há 94295 reviews\n",
            "4 é a nota média\n"
          ]
        }
      ]
    },
    {
      "cell_type": "code",
      "metadata": {
        "colab": {
          "base_uri": "https://localhost:8080/"
        },
        "id": "DSfI-fUPIe7x",
        "outputId": "152768bd-a8ff-4dd4-9bc6-04d672596106"
      },
      "source": [
        "# Pagamentos\n",
        "print(f'Há {len(olist.payment_type.unique())} tipos de pagamentos')\n",
        "print(f'R${round(olist.payment_value.mean())} é o valor médio de pagamentos')"
      ],
      "execution_count": 61,
      "outputs": [
        {
          "output_type": "stream",
          "name": "stdout",
          "text": [
            "Há 4 tipos de pagamentos\n",
            "R$172 é o valor médio de pagamentos\n"
          ]
        }
      ]
    },
    {
      "cell_type": "markdown",
      "metadata": {
        "id": "OcXIBJxJQdyE"
      },
      "source": [
        "### Monte um plano de negócio de crescimento de 3 anos para empresa (levando em consideração ser uma empresa de e-commerce) baseado em geração de caixa (não esqueça de se basear em números)"
      ]
    },
    {
      "cell_type": "markdown",
      "metadata": {
        "id": "ZqF-iaMX_UQa"
      },
      "source": [
        "O crescimento deve ser um desejo contínuo em qualquer empresa, mas é necessário que seja realizada de maneira escalável e segura.\n",
        "\n",
        "Para tanto, há algumas informações necessárias, tais como:"
      ]
    },
    {
      "cell_type": "markdown",
      "metadata": {
        "id": "XBe_sFELyQTG"
      },
      "source": [
        "#### **1 - Informações sobre o mercado**\n",
        "1o. Semestre de 2021:\n",
        "\n",
        "O crescimento se concentrou nos meses de Janeiro à Abril e apresentou desaceleração em Maio e Junho.\n",
        "\n",
        "Os sites de busca e redes sociais são os principais caminhos para as lojas.\n",
        "\n",
        "Faturamento e Pedidos via mobile se destaca frente ao desktop.\n",
        "\n",
        "- Faturamento: R$ 53,4 bi (aumento de 31%)\n",
        "\n",
        "- Ticket médio: R$ 534,42 (aumento de 22%)\n",
        "\n",
        "- Frete grátis: número de pedidos com frete grátis cresceu 38%\n",
        "\n",
        "- Pedidos: 100 mi (aumento de 7,4%)\n",
        "\n",
        "- Mobile: 56,2% em faturamento (aumento de 28,4%)\n",
        "\n",
        "- Norte, Centro-Oeste e Sul são as regiões com maior oportunidade de desenvolvimento em aplicativos de entrega\n",
        "\n",
        "- Categoria de casa e decoração e esportivos mantiveram crescimento expressivo durante o primeiro semestre de 2021 \n",
        "\n",
        "fonte: 44a. ed. Webshoppers"
      ]
    },
    {
      "cell_type": "markdown",
      "metadata": {
        "id": "z4XF2uajyU-m"
      },
      "source": [
        "#### **2 - Estratégias do Negócio**\n",
        "\n",
        "- tipo de expansão: \n",
        "    - orgânica ou por fusão/aquisição;\n",
        "    - aumento ou troca de portfólio de produtos e serviços;\n",
        "    - mirar outros perfis de consumidores;\n",
        "    - troca de modalidades empresariais, como por exemplo, tornar-se exportador"
      ]
    },
    {
      "cell_type": "markdown",
      "metadata": {
        "id": "_kRc5oqyyYWO"
      },
      "source": [
        "#### **3 - Estratégias de Marketing**"
      ]
    },
    {
      "cell_type": "markdown",
      "metadata": {
        "id": "Z-Rw4r5TKYj5"
      },
      "source": [
        "#### **4 - Análise de Riscos e Concorrentes**"
      ]
    },
    {
      "cell_type": "markdown",
      "metadata": {
        "id": "itzDRdRsybiZ"
      },
      "source": [
        "#### **5 - Planejamento Financeiro**\n",
        "\n",
        "\n",
        "orçamento disponível com projeções de:\n",
        "\n",
        "- fluxo de caixa;\n",
        "\n",
        "- despesas e custos;\n",
        "\n",
        "- expectativa de retorno;\n",
        "\n",
        "- análise de gastos futuros;"
      ]
    },
    {
      "cell_type": "markdown",
      "metadata": {
        "id": "kGgtcs2GEqso"
      },
      "source": [
        "#### **6 - Objetivos e Metas**"
      ]
    },
    {
      "cell_type": "markdown",
      "metadata": {
        "id": "k_J3nuGvQvRW"
      },
      "source": [
        "### Cite outras informações internas que você gostaria de ter para melhorar a projeção de 3 anos e justifique porquê seriam úteis na sua análise"
      ]
    },
    {
      "cell_type": "markdown",
      "metadata": {
        "id": "m6RtNxqAKRDJ"
      },
      "source": [
        "Outras informações internas para melhorar a projeção seriam:\n",
        "- **Impostos**: para a análise clara da movimentação e fluxo de recursos financeiros.\n",
        "- **Quantas pessoas abandonaram o carrinho**: para entender onde podem estar os \"gargalos\" que podem atrapalhar a navegação e concretização da compra.\n",
        "- **Itens comprados juntos**: ajudaria na sugestão de produtos para o cliente e montagem de combos que podem ser atrativos.\n",
        "- **Variação dos preços dos produtos**: para analisar se o aumento e diminuição dos preços alteraram o número de vendas.\n",
        "Com registros de venda individuais, seria possível realizar otimização do preço.\n",
        "- **Perfil dos  clientes**: ajuda na sugestão de produtos e descontos que podem fazer a diferença na concretização ou não da compra.\n",
        "- **Dados de um período maior**: ajudaria a obter uma análise mais assertiva, pois levaria em consideração fatores importantes tal como a sazonalidade."
      ]
    },
    {
      "cell_type": "markdown",
      "metadata": {
        "id": "NCgZUuY8RZ2M"
      },
      "source": [
        "## Pontos que gostaria de ter feito mais não deu tempo, ou não tem conhecimento mas gostaria de aprender."
      ]
    },
    {
      "cell_type": "markdown",
      "metadata": {
        "id": "KDKA2ZlxTu0Z"
      },
      "source": [
        "**Análise dos comentários dos clientes (NLP)**\n",
        "\n",
        "Serviria como \"termômetro\" de produtos que não agradam e poderiam ser retirados, poderia evidenciar: falhas na usabilidade da plataforma que devem ser corrigidos, falhas na logística e entrega, etc...\n",
        "<br><br>\n",
        "\n",
        "**Mais dados e tempo**\n",
        "\n",
        "Para tentar sugerir ações efetivas para o aumento das vendas com assertividade e para analisar base de dados externas.\n",
        "<br><br>\n",
        "\n",
        "**label encoding e/ou one-hot-encoding**\n",
        "\n",
        "Fazer tais transformações para que aplicação de modelos seja possível.\n",
        "<br><br>\n",
        "\n",
        "**Plano de Negócios**\n",
        "\n",
        "Estudar como redigir um plano  de negócios.\n",
        "<br><br>\n",
        "\n",
        "**Análise de Séries Temporais**\n",
        "\n",
        "Para previsões e descobrir tendências."
      ]
    },
    {
      "cell_type": "code",
      "metadata": {
        "id": "iWafgUYQyVmR"
      },
      "source": [
        ""
      ],
      "execution_count": null,
      "outputs": []
    }
  ]
}