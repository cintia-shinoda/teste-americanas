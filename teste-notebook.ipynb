{
  "nbformat": 4,
  "nbformat_minor": 0,
  "metadata": {
    "colab": {
      "name": "americanas - Teste - Analista de Dados.ipynb",
      "provenance": [],
      "collapsed_sections": []
    },
    "kernelspec": {
      "name": "python3",
      "display_name": "Python 3"
    },
    "language_info": {
      "name": "python"
    },
    "accelerator": "GPU"
  },
  "cells": [
    {
      "cell_type": "markdown",
      "metadata": {
        "id": "RISsJ2QAAhI4"
      },
      "source": [
        "## Bibliotecas"
      ]
    },
    {
      "cell_type": "code",
      "metadata": {
        "id": "VkI51MBO3I0p"
      },
      "source": [
        "import pandas as pd\n",
        "import numpy as np\n",
        "import matplotlib.pyplot as plt\n",
        "import seaborn as sns"
      ],
      "execution_count": 1,
      "outputs": []
    },
    {
      "cell_type": "markdown",
      "metadata": {
        "id": "YJtLK2RVAato"
      },
      "source": [
        "## Conhecendo os dados"
      ]
    },
    {
      "cell_type": "markdown",
      "metadata": {
        "id": "LDL4mxWZLgKU"
      },
      "source": [
        "### Financeiro"
      ]
    },
    {
      "cell_type": "code",
      "metadata": {
        "colab": {
          "base_uri": "https://localhost:8080/",
          "height": 313
        },
        "id": "zgNV19xx3cdf",
        "outputId": "d0094633-4ee4-4724-ac7f-d0b615ffb5d0"
      },
      "source": [
        "financeiro = pd.read_csv(\"Financeiro.csv\", sep=';', decimal=',')\n",
        "financeiro.head()"
      ],
      "execution_count": 2,
      "outputs": [
        {
          "output_type": "execute_result",
          "data": {
            "text/html": [
              "<div>\n",
              "<style scoped>\n",
              "    .dataframe tbody tr th:only-of-type {\n",
              "        vertical-align: middle;\n",
              "    }\n",
              "\n",
              "    .dataframe tbody tr th {\n",
              "        vertical-align: top;\n",
              "    }\n",
              "\n",
              "    .dataframe thead th {\n",
              "        text-align: right;\n",
              "    }\n",
              "</style>\n",
              "<table border=\"1\" class=\"dataframe\">\n",
              "  <thead>\n",
              "    <tr style=\"text-align: right;\">\n",
              "      <th></th>\n",
              "      <th>Mes</th>\n",
              "      <th>Departamento</th>\n",
              "      <th>UF</th>\n",
              "      <th>Item</th>\n",
              "      <th>Faturamento_Produto</th>\n",
              "      <th>Faturamento_Frete</th>\n",
              "      <th>Custo_Produto</th>\n",
              "      <th>Custo_Frete</th>\n",
              "      <th>Custo_Mkt</th>\n",
              "      <th>Desconto_Produto</th>\n",
              "      <th>Desconto_Frete</th>\n",
              "    </tr>\n",
              "  </thead>\n",
              "  <tbody>\n",
              "    <tr>\n",
              "      <th>0</th>\n",
              "      <td>2018-06</td>\n",
              "      <td>Cadeiras</td>\n",
              "      <td>SP</td>\n",
              "      <td>1</td>\n",
              "      <td>149250.0</td>\n",
              "      <td>42984.0</td>\n",
              "      <td>71640</td>\n",
              "      <td>35820</td>\n",
              "      <td>5970</td>\n",
              "      <td>0.0</td>\n",
              "      <td>4776.0</td>\n",
              "    </tr>\n",
              "    <tr>\n",
              "      <th>1</th>\n",
              "      <td>2018-06</td>\n",
              "      <td>Cadeiras</td>\n",
              "      <td>SP</td>\n",
              "      <td>2</td>\n",
              "      <td>148050.0</td>\n",
              "      <td>30456.0</td>\n",
              "      <td>76140</td>\n",
              "      <td>25380</td>\n",
              "      <td>4230</td>\n",
              "      <td>0.0</td>\n",
              "      <td>3384.0</td>\n",
              "    </tr>\n",
              "    <tr>\n",
              "      <th>2</th>\n",
              "      <td>2018-06</td>\n",
              "      <td>Cadeiras</td>\n",
              "      <td>SP</td>\n",
              "      <td>3</td>\n",
              "      <td>133650.0</td>\n",
              "      <td>21384.0</td>\n",
              "      <td>89100</td>\n",
              "      <td>17820</td>\n",
              "      <td>2970</td>\n",
              "      <td>0.0</td>\n",
              "      <td>2376.0</td>\n",
              "    </tr>\n",
              "    <tr>\n",
              "      <th>3</th>\n",
              "      <td>2018-07</td>\n",
              "      <td>Cadeiras</td>\n",
              "      <td>SP</td>\n",
              "      <td>1</td>\n",
              "      <td>314712.5</td>\n",
              "      <td>94784.0</td>\n",
              "      <td>177720</td>\n",
              "      <td>88860</td>\n",
              "      <td>74050</td>\n",
              "      <td>55537.5</td>\n",
              "      <td>23696.0</td>\n",
              "    </tr>\n",
              "    <tr>\n",
              "      <th>4</th>\n",
              "      <td>2018-07</td>\n",
              "      <td>Cadeiras</td>\n",
              "      <td>SP</td>\n",
              "      <td>2</td>\n",
              "      <td>392105.0</td>\n",
              "      <td>84352.0</td>\n",
              "      <td>237240</td>\n",
              "      <td>79080</td>\n",
              "      <td>65900</td>\n",
              "      <td>69195.0</td>\n",
              "      <td>21088.0</td>\n",
              "    </tr>\n",
              "  </tbody>\n",
              "</table>\n",
              "</div>"
            ],
            "text/plain": [
              "       Mes Departamento  UF  ...  Custo_Mkt  Desconto_Produto  Desconto_Frete\n",
              "0  2018-06     Cadeiras  SP  ...       5970               0.0          4776.0\n",
              "1  2018-06     Cadeiras  SP  ...       4230               0.0          3384.0\n",
              "2  2018-06     Cadeiras  SP  ...       2970               0.0          2376.0\n",
              "3  2018-07     Cadeiras  SP  ...      74050           55537.5         23696.0\n",
              "4  2018-07     Cadeiras  SP  ...      65900           69195.0         21088.0\n",
              "\n",
              "[5 rows x 11 columns]"
            ]
          },
          "metadata": {},
          "execution_count": 2
        }
      ]
    },
    {
      "cell_type": "code",
      "metadata": {
        "colab": {
          "base_uri": "https://localhost:8080/"
        },
        "id": "EBO53oeX3lGV",
        "outputId": "21971a32-2b21-431f-bf9c-47f221836408"
      },
      "source": [
        "financeiro.info()"
      ],
      "execution_count": 3,
      "outputs": [
        {
          "output_type": "stream",
          "name": "stdout",
          "text": [
            "<class 'pandas.core.frame.DataFrame'>\n",
            "RangeIndex: 108 entries, 0 to 107\n",
            "Data columns (total 11 columns):\n",
            " #   Column               Non-Null Count  Dtype  \n",
            "---  ------               --------------  -----  \n",
            " 0   Mes                  108 non-null    object \n",
            " 1   Departamento         108 non-null    object \n",
            " 2   UF                   108 non-null    object \n",
            " 3   Item                 108 non-null    int64  \n",
            " 4   Faturamento_Produto  108 non-null    float64\n",
            " 5   Faturamento_Frete    108 non-null    float64\n",
            " 6   Custo_Produto        108 non-null    int64  \n",
            " 7   Custo_Frete          108 non-null    int64  \n",
            " 8   Custo_Mkt            108 non-null    int64  \n",
            " 9   Desconto_Produto     108 non-null    float64\n",
            " 10  Desconto_Frete       108 non-null    float64\n",
            "dtypes: float64(4), int64(4), object(3)\n",
            "memory usage: 9.4+ KB\n"
          ]
        }
      ]
    },
    {
      "cell_type": "markdown",
      "metadata": {
        "id": "M_wFvWTmLi_V"
      },
      "source": [
        "### Vendas"
      ]
    },
    {
      "cell_type": "code",
      "metadata": {
        "colab": {
          "base_uri": "https://localhost:8080/",
          "height": 206
        },
        "id": "k9Ha8fvL8LKz",
        "outputId": "5f3715a1-2b04-45f6-eae9-ec0c86bb1187"
      },
      "source": [
        "vendas = pd.read_csv(\"Vendas.csv\", sep = ';', decimal=',')\n",
        "vendas.head()"
      ],
      "execution_count": 4,
      "outputs": [
        {
          "output_type": "execute_result",
          "data": {
            "text/html": [
              "<div>\n",
              "<style scoped>\n",
              "    .dataframe tbody tr th:only-of-type {\n",
              "        vertical-align: middle;\n",
              "    }\n",
              "\n",
              "    .dataframe tbody tr th {\n",
              "        vertical-align: top;\n",
              "    }\n",
              "\n",
              "    .dataframe thead th {\n",
              "        text-align: right;\n",
              "    }\n",
              "</style>\n",
              "<table border=\"1\" class=\"dataframe\">\n",
              "  <thead>\n",
              "    <tr style=\"text-align: right;\">\n",
              "      <th></th>\n",
              "      <th>Mes</th>\n",
              "      <th>Departamento</th>\n",
              "      <th>UF</th>\n",
              "      <th>Item</th>\n",
              "      <th>Vendas</th>\n",
              "    </tr>\n",
              "  </thead>\n",
              "  <tbody>\n",
              "    <tr>\n",
              "      <th>0</th>\n",
              "      <td>2018-06</td>\n",
              "      <td>Cadeiras</td>\n",
              "      <td>SP</td>\n",
              "      <td>1</td>\n",
              "      <td>590</td>\n",
              "    </tr>\n",
              "    <tr>\n",
              "      <th>1</th>\n",
              "      <td>2018-06</td>\n",
              "      <td>Cadeiras</td>\n",
              "      <td>SP</td>\n",
              "      <td>2</td>\n",
              "      <td>439</td>\n",
              "    </tr>\n",
              "    <tr>\n",
              "      <th>2</th>\n",
              "      <td>2018-06</td>\n",
              "      <td>Cadeiras</td>\n",
              "      <td>SP</td>\n",
              "      <td>3</td>\n",
              "      <td>292</td>\n",
              "    </tr>\n",
              "    <tr>\n",
              "      <th>3</th>\n",
              "      <td>2018-07</td>\n",
              "      <td>Cadeiras</td>\n",
              "      <td>SP</td>\n",
              "      <td>1</td>\n",
              "      <td>1469</td>\n",
              "    </tr>\n",
              "    <tr>\n",
              "      <th>4</th>\n",
              "      <td>2018-07</td>\n",
              "      <td>Cadeiras</td>\n",
              "      <td>SP</td>\n",
              "      <td>2</td>\n",
              "      <td>1333</td>\n",
              "    </tr>\n",
              "  </tbody>\n",
              "</table>\n",
              "</div>"
            ],
            "text/plain": [
              "       Mes Departamento  UF  Item  Vendas\n",
              "0  2018-06     Cadeiras  SP     1     590\n",
              "1  2018-06     Cadeiras  SP     2     439\n",
              "2  2018-06     Cadeiras  SP     3     292\n",
              "3  2018-07     Cadeiras  SP     1    1469\n",
              "4  2018-07     Cadeiras  SP     2    1333"
            ]
          },
          "metadata": {},
          "execution_count": 4
        }
      ]
    },
    {
      "cell_type": "code",
      "metadata": {
        "colab": {
          "base_uri": "https://localhost:8080/"
        },
        "id": "p01RFpcJ8zv-",
        "outputId": "5c298424-37ee-4812-dcfb-40d30559a404"
      },
      "source": [
        "vendas.info()"
      ],
      "execution_count": 5,
      "outputs": [
        {
          "output_type": "stream",
          "name": "stdout",
          "text": [
            "<class 'pandas.core.frame.DataFrame'>\n",
            "RangeIndex: 108 entries, 0 to 107\n",
            "Data columns (total 5 columns):\n",
            " #   Column        Non-Null Count  Dtype \n",
            "---  ------        --------------  ----- \n",
            " 0   Mes           108 non-null    object\n",
            " 1   Departamento  108 non-null    object\n",
            " 2   UF            108 non-null    object\n",
            " 3   Item          108 non-null    int64 \n",
            " 4   Vendas        108 non-null    int64 \n",
            "dtypes: int64(2), object(3)\n",
            "memory usage: 4.3+ KB\n"
          ]
        }
      ]
    },
    {
      "cell_type": "markdown",
      "metadata": {
        "id": "JwjYdkkiLlZC"
      },
      "source": [
        "### Visitas"
      ]
    },
    {
      "cell_type": "code",
      "metadata": {
        "colab": {
          "base_uri": "https://localhost:8080/",
          "height": 206
        },
        "id": "nOxfoNpU9VKR",
        "outputId": "a32f3ae9-f567-4012-9df1-186f1f465983"
      },
      "source": [
        "visitas = pd.read_csv(\"Visitas.csv\", sep=';', decimal=',')\n",
        "visitas.head()"
      ],
      "execution_count": 6,
      "outputs": [
        {
          "output_type": "execute_result",
          "data": {
            "text/html": [
              "<div>\n",
              "<style scoped>\n",
              "    .dataframe tbody tr th:only-of-type {\n",
              "        vertical-align: middle;\n",
              "    }\n",
              "\n",
              "    .dataframe tbody tr th {\n",
              "        vertical-align: top;\n",
              "    }\n",
              "\n",
              "    .dataframe thead th {\n",
              "        text-align: right;\n",
              "    }\n",
              "</style>\n",
              "<table border=\"1\" class=\"dataframe\">\n",
              "  <thead>\n",
              "    <tr style=\"text-align: right;\">\n",
              "      <th></th>\n",
              "      <th>Mes</th>\n",
              "      <th>Departamento</th>\n",
              "      <th>UF</th>\n",
              "      <th>Item</th>\n",
              "      <th>Visitas</th>\n",
              "    </tr>\n",
              "  </thead>\n",
              "  <tbody>\n",
              "    <tr>\n",
              "      <th>0</th>\n",
              "      <td>2018-06</td>\n",
              "      <td>Cadeiras</td>\n",
              "      <td>SP</td>\n",
              "      <td>1</td>\n",
              "      <td>14304</td>\n",
              "    </tr>\n",
              "    <tr>\n",
              "      <th>1</th>\n",
              "      <td>2018-06</td>\n",
              "      <td>Cadeiras</td>\n",
              "      <td>SP</td>\n",
              "      <td>2</td>\n",
              "      <td>14258</td>\n",
              "    </tr>\n",
              "    <tr>\n",
              "      <th>2</th>\n",
              "      <td>2018-06</td>\n",
              "      <td>Cadeiras</td>\n",
              "      <td>SP</td>\n",
              "      <td>3</td>\n",
              "      <td>14325</td>\n",
              "    </tr>\n",
              "    <tr>\n",
              "      <th>3</th>\n",
              "      <td>2018-07</td>\n",
              "      <td>Cadeiras</td>\n",
              "      <td>SP</td>\n",
              "      <td>1</td>\n",
              "      <td>14873</td>\n",
              "    </tr>\n",
              "    <tr>\n",
              "      <th>4</th>\n",
              "      <td>2018-07</td>\n",
              "      <td>Cadeiras</td>\n",
              "      <td>SP</td>\n",
              "      <td>2</td>\n",
              "      <td>14849</td>\n",
              "    </tr>\n",
              "  </tbody>\n",
              "</table>\n",
              "</div>"
            ],
            "text/plain": [
              "       Mes Departamento  UF  Item  Visitas\n",
              "0  2018-06     Cadeiras  SP     1    14304\n",
              "1  2018-06     Cadeiras  SP     2    14258\n",
              "2  2018-06     Cadeiras  SP     3    14325\n",
              "3  2018-07     Cadeiras  SP     1    14873\n",
              "4  2018-07     Cadeiras  SP     2    14849"
            ]
          },
          "metadata": {},
          "execution_count": 6
        }
      ]
    },
    {
      "cell_type": "code",
      "metadata": {
        "id": "3aYGfNBD9eyI",
        "colab": {
          "base_uri": "https://localhost:8080/"
        },
        "outputId": "e6ba2b77-68e8-4214-ef16-6ec2453e7610"
      },
      "source": [
        "visitas.info()"
      ],
      "execution_count": 7,
      "outputs": [
        {
          "output_type": "stream",
          "name": "stdout",
          "text": [
            "<class 'pandas.core.frame.DataFrame'>\n",
            "RangeIndex: 108 entries, 0 to 107\n",
            "Data columns (total 5 columns):\n",
            " #   Column        Non-Null Count  Dtype \n",
            "---  ------        --------------  ----- \n",
            " 0   Mes           108 non-null    object\n",
            " 1   Departamento  108 non-null    object\n",
            " 2   UF            108 non-null    object\n",
            " 3   Item          108 non-null    int64 \n",
            " 4   Visitas       108 non-null    int64 \n",
            "dtypes: int64(2), object(3)\n",
            "memory usage: 4.3+ KB\n"
          ]
        }
      ]
    },
    {
      "cell_type": "markdown",
      "metadata": {
        "id": "A9ivB5c4BRdr"
      },
      "source": [
        "## Junção das Bases"
      ]
    },
    {
      "cell_type": "markdown",
      "metadata": {
        "id": "SzDT4lVcLqNu"
      },
      "source": [
        "### Junção das bases Vendas e Financeiro usando INNER JOIN"
      ]
    },
    {
      "cell_type": "markdown",
      "metadata": {
        "id": "FHnnCFt2J4jT"
      },
      "source": [
        "retorna os registros comuns às duas bases (todas as vendas tem seus dados financeiros respectivos)"
      ]
    },
    {
      "cell_type": "code",
      "metadata": {
        "id": "274GZGRf9i4A",
        "colab": {
          "base_uri": "https://localhost:8080/",
          "height": 313
        },
        "outputId": "a087efa8-2f27-4740-8644-b45e6679fa77"
      },
      "source": [
        "df_join1 = pd.merge(financeiro, vendas, how='inner')\n",
        "df_join1.head()"
      ],
      "execution_count": 8,
      "outputs": [
        {
          "output_type": "execute_result",
          "data": {
            "text/html": [
              "<div>\n",
              "<style scoped>\n",
              "    .dataframe tbody tr th:only-of-type {\n",
              "        vertical-align: middle;\n",
              "    }\n",
              "\n",
              "    .dataframe tbody tr th {\n",
              "        vertical-align: top;\n",
              "    }\n",
              "\n",
              "    .dataframe thead th {\n",
              "        text-align: right;\n",
              "    }\n",
              "</style>\n",
              "<table border=\"1\" class=\"dataframe\">\n",
              "  <thead>\n",
              "    <tr style=\"text-align: right;\">\n",
              "      <th></th>\n",
              "      <th>Mes</th>\n",
              "      <th>Departamento</th>\n",
              "      <th>UF</th>\n",
              "      <th>Item</th>\n",
              "      <th>Faturamento_Produto</th>\n",
              "      <th>Faturamento_Frete</th>\n",
              "      <th>Custo_Produto</th>\n",
              "      <th>Custo_Frete</th>\n",
              "      <th>Custo_Mkt</th>\n",
              "      <th>Desconto_Produto</th>\n",
              "      <th>Desconto_Frete</th>\n",
              "      <th>Vendas</th>\n",
              "    </tr>\n",
              "  </thead>\n",
              "  <tbody>\n",
              "    <tr>\n",
              "      <th>0</th>\n",
              "      <td>2018-06</td>\n",
              "      <td>Cadeiras</td>\n",
              "      <td>SP</td>\n",
              "      <td>1</td>\n",
              "      <td>149250.0</td>\n",
              "      <td>42984.0</td>\n",
              "      <td>71640</td>\n",
              "      <td>35820</td>\n",
              "      <td>5970</td>\n",
              "      <td>0.0</td>\n",
              "      <td>4776.0</td>\n",
              "      <td>590</td>\n",
              "    </tr>\n",
              "    <tr>\n",
              "      <th>1</th>\n",
              "      <td>2018-06</td>\n",
              "      <td>Cadeiras</td>\n",
              "      <td>SP</td>\n",
              "      <td>2</td>\n",
              "      <td>148050.0</td>\n",
              "      <td>30456.0</td>\n",
              "      <td>76140</td>\n",
              "      <td>25380</td>\n",
              "      <td>4230</td>\n",
              "      <td>0.0</td>\n",
              "      <td>3384.0</td>\n",
              "      <td>439</td>\n",
              "    </tr>\n",
              "    <tr>\n",
              "      <th>2</th>\n",
              "      <td>2018-06</td>\n",
              "      <td>Cadeiras</td>\n",
              "      <td>SP</td>\n",
              "      <td>3</td>\n",
              "      <td>133650.0</td>\n",
              "      <td>21384.0</td>\n",
              "      <td>89100</td>\n",
              "      <td>17820</td>\n",
              "      <td>2970</td>\n",
              "      <td>0.0</td>\n",
              "      <td>2376.0</td>\n",
              "      <td>292</td>\n",
              "    </tr>\n",
              "    <tr>\n",
              "      <th>3</th>\n",
              "      <td>2018-07</td>\n",
              "      <td>Cadeiras</td>\n",
              "      <td>SP</td>\n",
              "      <td>1</td>\n",
              "      <td>314712.5</td>\n",
              "      <td>94784.0</td>\n",
              "      <td>177720</td>\n",
              "      <td>88860</td>\n",
              "      <td>74050</td>\n",
              "      <td>55537.5</td>\n",
              "      <td>23696.0</td>\n",
              "      <td>1469</td>\n",
              "    </tr>\n",
              "    <tr>\n",
              "      <th>4</th>\n",
              "      <td>2018-07</td>\n",
              "      <td>Cadeiras</td>\n",
              "      <td>SP</td>\n",
              "      <td>2</td>\n",
              "      <td>392105.0</td>\n",
              "      <td>84352.0</td>\n",
              "      <td>237240</td>\n",
              "      <td>79080</td>\n",
              "      <td>65900</td>\n",
              "      <td>69195.0</td>\n",
              "      <td>21088.0</td>\n",
              "      <td>1333</td>\n",
              "    </tr>\n",
              "  </tbody>\n",
              "</table>\n",
              "</div>"
            ],
            "text/plain": [
              "       Mes Departamento  UF  ...  Desconto_Produto  Desconto_Frete  Vendas\n",
              "0  2018-06     Cadeiras  SP  ...               0.0          4776.0     590\n",
              "1  2018-06     Cadeiras  SP  ...               0.0          3384.0     439\n",
              "2  2018-06     Cadeiras  SP  ...               0.0          2376.0     292\n",
              "3  2018-07     Cadeiras  SP  ...           55537.5         23696.0    1469\n",
              "4  2018-07     Cadeiras  SP  ...           69195.0         21088.0    1333\n",
              "\n",
              "[5 rows x 12 columns]"
            ]
          },
          "metadata": {},
          "execution_count": 8
        }
      ]
    },
    {
      "cell_type": "code",
      "metadata": {
        "colab": {
          "base_uri": "https://localhost:8080/"
        },
        "id": "Nygf2G9vDN0Y",
        "outputId": "93489f71-fd77-42d8-ecb8-e568cca50690"
      },
      "source": [
        "df_join1.info()"
      ],
      "execution_count": 9,
      "outputs": [
        {
          "output_type": "stream",
          "name": "stdout",
          "text": [
            "<class 'pandas.core.frame.DataFrame'>\n",
            "Int64Index: 108 entries, 0 to 107\n",
            "Data columns (total 12 columns):\n",
            " #   Column               Non-Null Count  Dtype  \n",
            "---  ------               --------------  -----  \n",
            " 0   Mes                  108 non-null    object \n",
            " 1   Departamento         108 non-null    object \n",
            " 2   UF                   108 non-null    object \n",
            " 3   Item                 108 non-null    int64  \n",
            " 4   Faturamento_Produto  108 non-null    float64\n",
            " 5   Faturamento_Frete    108 non-null    float64\n",
            " 6   Custo_Produto        108 non-null    int64  \n",
            " 7   Custo_Frete          108 non-null    int64  \n",
            " 8   Custo_Mkt            108 non-null    int64  \n",
            " 9   Desconto_Produto     108 non-null    float64\n",
            " 10  Desconto_Frete       108 non-null    float64\n",
            " 11  Vendas               108 non-null    int64  \n",
            "dtypes: float64(4), int64(5), object(3)\n",
            "memory usage: 11.0+ KB\n"
          ]
        }
      ]
    },
    {
      "cell_type": "markdown",
      "metadata": {
        "id": "xIf1R0mtL9sR"
      },
      "source": [
        "### Junção das bases Visitas com (Vendas + Financeiro) usando LEFT JOIN"
      ]
    },
    {
      "cell_type": "markdown",
      "metadata": {
        "id": "d-n8DlqGMShl"
      },
      "source": [
        "Retorna como resultado todos os registros que estão na base Visitas e os registros da base Vendas que são comuns à base Visitas (podem haver visitas que não terminaram em venda)"
      ]
    },
    {
      "cell_type": "code",
      "metadata": {
        "colab": {
          "base_uri": "https://localhost:8080/",
          "height": 313
        },
        "id": "WO3t7uyWD8H5",
        "outputId": "d0dd4863-2376-4131-9593-d3cf1e0adbdb"
      },
      "source": [
        "df_join2 = pd.merge(visitas, df_join1, how='left')\n",
        "df_join2.head()"
      ],
      "execution_count": 10,
      "outputs": [
        {
          "output_type": "execute_result",
          "data": {
            "text/html": [
              "<div>\n",
              "<style scoped>\n",
              "    .dataframe tbody tr th:only-of-type {\n",
              "        vertical-align: middle;\n",
              "    }\n",
              "\n",
              "    .dataframe tbody tr th {\n",
              "        vertical-align: top;\n",
              "    }\n",
              "\n",
              "    .dataframe thead th {\n",
              "        text-align: right;\n",
              "    }\n",
              "</style>\n",
              "<table border=\"1\" class=\"dataframe\">\n",
              "  <thead>\n",
              "    <tr style=\"text-align: right;\">\n",
              "      <th></th>\n",
              "      <th>Mes</th>\n",
              "      <th>Departamento</th>\n",
              "      <th>UF</th>\n",
              "      <th>Item</th>\n",
              "      <th>Visitas</th>\n",
              "      <th>Faturamento_Produto</th>\n",
              "      <th>Faturamento_Frete</th>\n",
              "      <th>Custo_Produto</th>\n",
              "      <th>Custo_Frete</th>\n",
              "      <th>Custo_Mkt</th>\n",
              "      <th>Desconto_Produto</th>\n",
              "      <th>Desconto_Frete</th>\n",
              "      <th>Vendas</th>\n",
              "    </tr>\n",
              "  </thead>\n",
              "  <tbody>\n",
              "    <tr>\n",
              "      <th>0</th>\n",
              "      <td>2018-06</td>\n",
              "      <td>Cadeiras</td>\n",
              "      <td>SP</td>\n",
              "      <td>1</td>\n",
              "      <td>14304</td>\n",
              "      <td>149250.0</td>\n",
              "      <td>42984.0</td>\n",
              "      <td>71640</td>\n",
              "      <td>35820</td>\n",
              "      <td>5970</td>\n",
              "      <td>0.0</td>\n",
              "      <td>4776.0</td>\n",
              "      <td>590</td>\n",
              "    </tr>\n",
              "    <tr>\n",
              "      <th>1</th>\n",
              "      <td>2018-06</td>\n",
              "      <td>Cadeiras</td>\n",
              "      <td>SP</td>\n",
              "      <td>2</td>\n",
              "      <td>14258</td>\n",
              "      <td>148050.0</td>\n",
              "      <td>30456.0</td>\n",
              "      <td>76140</td>\n",
              "      <td>25380</td>\n",
              "      <td>4230</td>\n",
              "      <td>0.0</td>\n",
              "      <td>3384.0</td>\n",
              "      <td>439</td>\n",
              "    </tr>\n",
              "    <tr>\n",
              "      <th>2</th>\n",
              "      <td>2018-06</td>\n",
              "      <td>Cadeiras</td>\n",
              "      <td>SP</td>\n",
              "      <td>3</td>\n",
              "      <td>14325</td>\n",
              "      <td>133650.0</td>\n",
              "      <td>21384.0</td>\n",
              "      <td>89100</td>\n",
              "      <td>17820</td>\n",
              "      <td>2970</td>\n",
              "      <td>0.0</td>\n",
              "      <td>2376.0</td>\n",
              "      <td>292</td>\n",
              "    </tr>\n",
              "    <tr>\n",
              "      <th>3</th>\n",
              "      <td>2018-07</td>\n",
              "      <td>Cadeiras</td>\n",
              "      <td>SP</td>\n",
              "      <td>1</td>\n",
              "      <td>14873</td>\n",
              "      <td>314712.5</td>\n",
              "      <td>94784.0</td>\n",
              "      <td>177720</td>\n",
              "      <td>88860</td>\n",
              "      <td>74050</td>\n",
              "      <td>55537.5</td>\n",
              "      <td>23696.0</td>\n",
              "      <td>1469</td>\n",
              "    </tr>\n",
              "    <tr>\n",
              "      <th>4</th>\n",
              "      <td>2018-07</td>\n",
              "      <td>Cadeiras</td>\n",
              "      <td>SP</td>\n",
              "      <td>2</td>\n",
              "      <td>14849</td>\n",
              "      <td>392105.0</td>\n",
              "      <td>84352.0</td>\n",
              "      <td>237240</td>\n",
              "      <td>79080</td>\n",
              "      <td>65900</td>\n",
              "      <td>69195.0</td>\n",
              "      <td>21088.0</td>\n",
              "      <td>1333</td>\n",
              "    </tr>\n",
              "  </tbody>\n",
              "</table>\n",
              "</div>"
            ],
            "text/plain": [
              "       Mes Departamento  UF  ...  Desconto_Produto  Desconto_Frete  Vendas\n",
              "0  2018-06     Cadeiras  SP  ...               0.0          4776.0     590\n",
              "1  2018-06     Cadeiras  SP  ...               0.0          3384.0     439\n",
              "2  2018-06     Cadeiras  SP  ...               0.0          2376.0     292\n",
              "3  2018-07     Cadeiras  SP  ...           55537.5         23696.0    1469\n",
              "4  2018-07     Cadeiras  SP  ...           69195.0         21088.0    1333\n",
              "\n",
              "[5 rows x 13 columns]"
            ]
          },
          "metadata": {},
          "execution_count": 10
        }
      ]
    },
    {
      "cell_type": "code",
      "metadata": {
        "colab": {
          "base_uri": "https://localhost:8080/"
        },
        "id": "UKyH1SNQxQW3",
        "outputId": "14a34b7d-572c-4a38-bd24-33f2cfd7cc29"
      },
      "source": [
        "df_join2.info()"
      ],
      "execution_count": 12,
      "outputs": [
        {
          "output_type": "stream",
          "name": "stdout",
          "text": [
            "<class 'pandas.core.frame.DataFrame'>\n",
            "Int64Index: 108 entries, 0 to 107\n",
            "Data columns (total 13 columns):\n",
            " #   Column               Non-Null Count  Dtype  \n",
            "---  ------               --------------  -----  \n",
            " 0   Mes                  108 non-null    object \n",
            " 1   Departamento         108 non-null    object \n",
            " 2   UF                   108 non-null    object \n",
            " 3   Item                 108 non-null    int64  \n",
            " 4   Visitas              108 non-null    int64  \n",
            " 5   Faturamento_Produto  108 non-null    float64\n",
            " 6   Faturamento_Frete    108 non-null    float64\n",
            " 7   Custo_Produto        108 non-null    int64  \n",
            " 8   Custo_Frete          108 non-null    int64  \n",
            " 9   Custo_Mkt            108 non-null    int64  \n",
            " 10  Desconto_Produto     108 non-null    float64\n",
            " 11  Desconto_Frete       108 non-null    float64\n",
            " 12  Vendas               108 non-null    int64  \n",
            "dtypes: float64(4), int64(6), object(3)\n",
            "memory usage: 11.8+ KB\n"
          ]
        }
      ]
    },
    {
      "cell_type": "markdown",
      "metadata": {
        "id": "ngulM5SnOH_V"
      },
      "source": [
        "## Criação do arquivo .csv com a base única criada"
      ]
    },
    {
      "cell_type": "code",
      "metadata": {
        "id": "lJkjO0pO0Ff_"
      },
      "source": [
        "df_join2.to_csv('df.csv', sep=',', encoding='utf-8', index=False)"
      ],
      "execution_count": 13,
      "outputs": []
    },
    {
      "cell_type": "markdown",
      "metadata": {
        "id": "wmVkfln6Od5I"
      },
      "source": [
        "### Leitura da base criada"
      ]
    },
    {
      "cell_type": "code",
      "metadata": {
        "colab": {
          "base_uri": "https://localhost:8080/",
          "height": 313
        },
        "id": "h4wjKl7O3J8k",
        "outputId": "470441e4-8996-4e74-d632-2036aa50f8a6"
      },
      "source": [
        "df = pd.read_csv('df.csv')\n",
        "df.head()"
      ],
      "execution_count": 14,
      "outputs": [
        {
          "output_type": "execute_result",
          "data": {
            "text/html": [
              "<div>\n",
              "<style scoped>\n",
              "    .dataframe tbody tr th:only-of-type {\n",
              "        vertical-align: middle;\n",
              "    }\n",
              "\n",
              "    .dataframe tbody tr th {\n",
              "        vertical-align: top;\n",
              "    }\n",
              "\n",
              "    .dataframe thead th {\n",
              "        text-align: right;\n",
              "    }\n",
              "</style>\n",
              "<table border=\"1\" class=\"dataframe\">\n",
              "  <thead>\n",
              "    <tr style=\"text-align: right;\">\n",
              "      <th></th>\n",
              "      <th>Mes</th>\n",
              "      <th>Departamento</th>\n",
              "      <th>UF</th>\n",
              "      <th>Item</th>\n",
              "      <th>Visitas</th>\n",
              "      <th>Faturamento_Produto</th>\n",
              "      <th>Faturamento_Frete</th>\n",
              "      <th>Custo_Produto</th>\n",
              "      <th>Custo_Frete</th>\n",
              "      <th>Custo_Mkt</th>\n",
              "      <th>Desconto_Produto</th>\n",
              "      <th>Desconto_Frete</th>\n",
              "      <th>Vendas</th>\n",
              "    </tr>\n",
              "  </thead>\n",
              "  <tbody>\n",
              "    <tr>\n",
              "      <th>0</th>\n",
              "      <td>2018-06</td>\n",
              "      <td>Cadeiras</td>\n",
              "      <td>SP</td>\n",
              "      <td>1</td>\n",
              "      <td>14304</td>\n",
              "      <td>149250.0</td>\n",
              "      <td>42984.0</td>\n",
              "      <td>71640</td>\n",
              "      <td>35820</td>\n",
              "      <td>5970</td>\n",
              "      <td>0.0</td>\n",
              "      <td>4776.0</td>\n",
              "      <td>590</td>\n",
              "    </tr>\n",
              "    <tr>\n",
              "      <th>1</th>\n",
              "      <td>2018-06</td>\n",
              "      <td>Cadeiras</td>\n",
              "      <td>SP</td>\n",
              "      <td>2</td>\n",
              "      <td>14258</td>\n",
              "      <td>148050.0</td>\n",
              "      <td>30456.0</td>\n",
              "      <td>76140</td>\n",
              "      <td>25380</td>\n",
              "      <td>4230</td>\n",
              "      <td>0.0</td>\n",
              "      <td>3384.0</td>\n",
              "      <td>439</td>\n",
              "    </tr>\n",
              "    <tr>\n",
              "      <th>2</th>\n",
              "      <td>2018-06</td>\n",
              "      <td>Cadeiras</td>\n",
              "      <td>SP</td>\n",
              "      <td>3</td>\n",
              "      <td>14325</td>\n",
              "      <td>133650.0</td>\n",
              "      <td>21384.0</td>\n",
              "      <td>89100</td>\n",
              "      <td>17820</td>\n",
              "      <td>2970</td>\n",
              "      <td>0.0</td>\n",
              "      <td>2376.0</td>\n",
              "      <td>292</td>\n",
              "    </tr>\n",
              "    <tr>\n",
              "      <th>3</th>\n",
              "      <td>2018-07</td>\n",
              "      <td>Cadeiras</td>\n",
              "      <td>SP</td>\n",
              "      <td>1</td>\n",
              "      <td>14873</td>\n",
              "      <td>314712.5</td>\n",
              "      <td>94784.0</td>\n",
              "      <td>177720</td>\n",
              "      <td>88860</td>\n",
              "      <td>74050</td>\n",
              "      <td>55537.5</td>\n",
              "      <td>23696.0</td>\n",
              "      <td>1469</td>\n",
              "    </tr>\n",
              "    <tr>\n",
              "      <th>4</th>\n",
              "      <td>2018-07</td>\n",
              "      <td>Cadeiras</td>\n",
              "      <td>SP</td>\n",
              "      <td>2</td>\n",
              "      <td>14849</td>\n",
              "      <td>392105.0</td>\n",
              "      <td>84352.0</td>\n",
              "      <td>237240</td>\n",
              "      <td>79080</td>\n",
              "      <td>65900</td>\n",
              "      <td>69195.0</td>\n",
              "      <td>21088.0</td>\n",
              "      <td>1333</td>\n",
              "    </tr>\n",
              "  </tbody>\n",
              "</table>\n",
              "</div>"
            ],
            "text/plain": [
              "       Mes Departamento  UF  ...  Desconto_Produto  Desconto_Frete  Vendas\n",
              "0  2018-06     Cadeiras  SP  ...               0.0          4776.0     590\n",
              "1  2018-06     Cadeiras  SP  ...               0.0          3384.0     439\n",
              "2  2018-06     Cadeiras  SP  ...               0.0          2376.0     292\n",
              "3  2018-07     Cadeiras  SP  ...           55537.5         23696.0    1469\n",
              "4  2018-07     Cadeiras  SP  ...           69195.0         21088.0    1333\n",
              "\n",
              "[5 rows x 13 columns]"
            ]
          },
          "metadata": {},
          "execution_count": 14
        }
      ]
    },
    {
      "cell_type": "code",
      "metadata": {
        "colab": {
          "base_uri": "https://localhost:8080/"
        },
        "id": "5aAUeihG3X9O",
        "outputId": "bfc69e00-fa5d-4dbd-af94-696ee6e1aa02"
      },
      "source": [
        "df.info()"
      ],
      "execution_count": 15,
      "outputs": [
        {
          "output_type": "stream",
          "name": "stdout",
          "text": [
            "<class 'pandas.core.frame.DataFrame'>\n",
            "RangeIndex: 108 entries, 0 to 107\n",
            "Data columns (total 13 columns):\n",
            " #   Column               Non-Null Count  Dtype  \n",
            "---  ------               --------------  -----  \n",
            " 0   Mes                  108 non-null    object \n",
            " 1   Departamento         108 non-null    object \n",
            " 2   UF                   108 non-null    object \n",
            " 3   Item                 108 non-null    int64  \n",
            " 4   Visitas              108 non-null    int64  \n",
            " 5   Faturamento_Produto  108 non-null    float64\n",
            " 6   Faturamento_Frete    108 non-null    float64\n",
            " 7   Custo_Produto        108 non-null    int64  \n",
            " 8   Custo_Frete          108 non-null    int64  \n",
            " 9   Custo_Mkt            108 non-null    int64  \n",
            " 10  Desconto_Produto     108 non-null    float64\n",
            " 11  Desconto_Frete       108 non-null    float64\n",
            " 12  Vendas               108 non-null    int64  \n",
            "dtypes: float64(4), int64(6), object(3)\n",
            "memory usage: 11.1+ KB\n"
          ]
        }
      ]
    },
    {
      "cell_type": "markdown",
      "metadata": {
        "id": "ZzYLxYz9O049"
      },
      "source": [
        "## Análise"
      ]
    },
    {
      "cell_type": "markdown",
      "metadata": {
        "id": "OWIdvyz1POLS"
      },
      "source": [
        "### Quais os departamentos com mais faturamento?"
      ]
    },
    {
      "cell_type": "code",
      "metadata": {
        "id": "RyI4FW4fPZtT"
      },
      "source": [
        ""
      ],
      "execution_count": null,
      "outputs": []
    },
    {
      "cell_type": "markdown",
      "metadata": {
        "id": "I3pZ1A4SPVWl"
      },
      "source": [
        "### Quais os departamentos com mais lucro?"
      ]
    },
    {
      "cell_type": "code",
      "metadata": {
        "id": "_fBveu3zPac9"
      },
      "source": [
        ""
      ],
      "execution_count": null,
      "outputs": []
    },
    {
      "cell_type": "markdown",
      "metadata": {
        "id": "LHtdfWTDPbMa"
      },
      "source": [
        "### Qual ação você sugere como mais efetiva para aumento de vendas? (investimento em propaganda, desconto em preço ou desconto em frete) Por quê?"
      ]
    },
    {
      "cell_type": "code",
      "metadata": {
        "id": "8hlGMRfuQAgp"
      },
      "source": [
        ""
      ],
      "execution_count": null,
      "outputs": []
    },
    {
      "cell_type": "markdown",
      "metadata": {
        "id": "16ajGvOMQBJm"
      },
      "source": [
        "### Cite outras conclusões importantes você conseguiu analisar."
      ]
    },
    {
      "cell_type": "code",
      "metadata": {
        "id": "kBa0xcOBQM_4"
      },
      "source": [
        ""
      ],
      "execution_count": null,
      "outputs": []
    },
    {
      "cell_type": "markdown",
      "metadata": {
        "id": "C8GTU4KcQSGz"
      },
      "source": [
        "## agregando bases externas com as existentes"
      ]
    },
    {
      "cell_type": "code",
      "metadata": {
        "id": "LLufIaBEQdU9"
      },
      "source": [
        ""
      ],
      "execution_count": null,
      "outputs": []
    },
    {
      "cell_type": "markdown",
      "metadata": {
        "id": "OcXIBJxJQdyE"
      },
      "source": [
        "### Monte um plano de negócio de crescimento de 3 anos para empresa (levando em consideração ser uma empresa de e-commerce) baseado em geração de caixa (não esqueça de se basear em números)"
      ]
    },
    {
      "cell_type": "code",
      "metadata": {
        "id": "9VJPcrWfQuvB"
      },
      "source": [
        ""
      ],
      "execution_count": null,
      "outputs": []
    },
    {
      "cell_type": "markdown",
      "metadata": {
        "id": "k_J3nuGvQvRW"
      },
      "source": [
        "### Cite outras informações internas que você gostaria de ter para melhorar a projeção de 3 anos e justifique porquê seriam úteis na sua análise"
      ]
    },
    {
      "cell_type": "markdown",
      "metadata": {
        "id": "tbYrVJIUtXPX"
      },
      "source": [
        "## Heatmap (correlação)"
      ]
    },
    {
      "cell_type": "code",
      "metadata": {
        "colab": {
          "base_uri": "https://localhost:8080/",
          "height": 575
        },
        "id": "xnvZDfSLvJ6C",
        "outputId": "57c871aa-4f79-4cf5-c61e-1c4d1e582e52"
      },
      "source": [
        "plt.figure(figsize=(20,15))\n",
        "heatmap = sns.heatmap(df_join2.corr(), vmin=-1, vmax=1, annot=True)\n",
        "heatmap.set_title('Correlation Heatmap')"
      ],
      "execution_count": 64,
      "outputs": [
        {
          "output_type": "execute_result",
          "data": {
            "text/plain": [
              "Text(0.5, 1.0, 'Correlation Heatmap')"
            ]
          },
          "metadata": {},
          "execution_count": 64
        },
        {
          "output_type": "display_data",
          "data": {
            "image/png": "[encoded data removed]",
            "text/plain": [
              "<Figure size 1440x1080 with 2 Axes>"
            ]
          },
          "metadata": {
            "needs_background": "light"
          }
        }
      ]
    },
    {
      "cell_type": "code",
      "metadata": {
        "id": "F07KIMFl-ZNj"
      },
      "source": [
        ""
      ],
      "execution_count": null,
      "outputs": []
    },
    {
      "cell_type": "markdown",
      "metadata": {
        "id": "NCgZUuY8RZ2M"
      },
      "source": [
        "## Pontos que gostaria de ter feito mais não deu tempo, ou não tem conhecimento mas gostaria de aprender."
      ]
    },
    {
      "cell_type": "code",
      "metadata": {
        "id": "JaibXladRids"
      },
      "source": [
        ""
      ],
      "execution_count": null,
      "outputs": []
    }
  ]
}